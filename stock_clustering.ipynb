{
 "cells": [
  {
   "cell_type": "code",
   "execution_count": 50,
   "metadata": {},
   "outputs": [
    {
     "name": "stderr",
     "output_type": "stream",
     "text": [
      "100%|██████████| 13/13 [00:09<00:00,  1.33it/s]\n"
     ]
    }
   ],
   "source": [
    "import matplotlib.pyplot as plt\n",
    "import pandas as pd\n",
    "import numpy as np\n",
    "import time\n",
    "import datetime as dt\n",
    "import os\n",
    "from tqdm import tqdm\n",
    "from sklearn.cluster import KMeans\n",
    "from sklearn.cluster import AgglomerativeClustering\n",
    "from dtw import dtw\n",
    "from sklearn.metrics import pairwise_distances\n",
    "PRE_NAME = \"onemin_ohlc_\"\n",
    "BEGIN_TIME = \"09:00:00\"\n",
    "END_TIME = \"11:00:00\"\n",
    "NUM_CLUSTER = 50\n",
    "def load_data():\n",
    "    X = []\n",
    "    Y = []\n",
    "    # df = pd.read_csv(os.path.join('dataset', '2327', PRE_NAME+\"20180612.csv\"))\n",
    "    # mask = (df.loc[:, \"time\"] >= BEGIN_TIME) & (df.loc[:, \"time\"] <= END_TIME)\n",
    "    # front_df = df[mask].loc[:, \"return\"]\n",
    "    # end_df = df[~mask].loc[:, \"return\"]\n",
    "    # X.append(np.array(front_df))\n",
    "    # Y.append(np.array(end_df))\n",
    "    # \"\"\"我是分隔線^^~\"\"\"\n",
    "    # df = pd.read_csv(os.path.join('dataset', '2327', PRE_NAME+\"20180613.csv\"))\n",
    "    # mask = (df.loc[:, \"time\"] >= BEGIN_TIME) & (df.loc[:, \"time\"] <= END_TIME)\n",
    "    # front_df = df[mask].loc[:, \"return\"]\n",
    "    # end_df = df[~mask].loc[:, \"return\"]\n",
    "    # X.append(np.array(front_df))\n",
    "    # Y.append(np.array(end_df))\n",
    "    \n",
    "    \n",
    "    for sid in tqdm(os.listdir(os.path.join('dataset'))):\n",
    "        for file in os.listdir(os.path.join('dataset', sid)):\n",
    "            # print(file)\n",
    "            df = pd.read_csv(os.path.join('dataset', sid, file))\n",
    "            mask = (df.loc[:, \"time\"] >= BEGIN_TIME) & (df.loc[:, \"time\"] <= END_TIME)\n",
    "            front_df = df[mask].loc[:, \"return\"]\n",
    "            # print(front_df)\n",
    "            # exit()\n",
    "            end_df = df[~mask].loc[:, \"return\"]\n",
    "            if len(front_df) == 121:\n",
    "            #     print(df.to_string())\n",
    "            #     exit()\n",
    "            # print(np.array(front_df).shape)\n",
    "                X.append(np.array(front_df))\n",
    "                Y.append(np.array(end_df))\n",
    "    # print(end_df)\n",
    "    # df = pd.read_csv(os.path.join('dataset', '2327', PRE_NAME+\"20180612.csv\"))\n",
    "    # print(len(X))\n",
    "    # print(len(X[0]))\n",
    "    # X = np.array(X)\n",
    "    # print(X.shape)\n",
    "        \n",
    "    # exit()\n",
    "    return np.array(X), np.array(Y)\n",
    "\n",
    "def dtw_d(X, Y):\n",
    "    manhattan_distance = lambda x, y: np.abs(x - y)\n",
    "    d, cost_matrix, acc_cost_matrix, path = dtw(X, Y, dist=manhattan_distance)\n",
    "    return d\n",
    "\n",
    "def dtw_affinity(X):\n",
    "    return pairwise_distances(X, metric=dtw_d)\n",
    "\n",
    "X, Y = load_data()"
   ]
  },
  {
   "cell_type": "code",
   "execution_count": null,
   "metadata": {},
   "outputs": [],
   "source": [
    "ac = AgglomerativeClustering(n_clusters = NUM_CLUSTER,\n",
    "                             affinity = dtw_affinity,\n",
    "                             linkage = 'complete')\n",
    "X_label = ac.fit_predict(X)"
   ]
  },
  {
   "cell_type": "code",
   "execution_count": null,
   "metadata": {
    "scrolled": true
   },
   "outputs": [],
   "source": [
    "X_label"
   ]
  },
  {
   "cell_type": "code",
   "execution_count": null,
   "metadata": {},
   "outputs": [],
   "source": [
    "for n in range(NUM_CLUSTER):\n",
    "    for i in range(len(X)):\n",
    "    #     plt.subplot(10, 1, X_label[i]+1)\n",
    "        if X_label[i] == n:\n",
    "            plt.plot(X[i])\n",
    "    plt.show()"
   ]
  },
  {
   "cell_type": "code",
   "execution_count": null,
   "metadata": {},
   "outputs": [],
   "source": [
    "def make_long_simple(y, cost):\n",
    "    return y.max() - y[0] - cost\n",
    "def make_short_simple(y, cost):\n",
    "    return y[0] - y.min() - cost\n",
    "def make_long_max_lost(y, cost):\n",
    "    return y.min() - y[0] - cost\n",
    "def make_short_max_lost(y, cost):\n",
    "    return y[0] - y.max() - cost"
   ]
  },
  {
   "cell_type": "code",
   "execution_count": null,
   "metadata": {},
   "outputs": [],
   "source": [
    "profit_long_array = np.zeros(NUM_CLUSTER)\n",
    "profit_short_array = np.zeros(NUM_CLUSTER)\n",
    "lost_long_array = np.zeros(NUM_CLUSTER)\n",
    "lost_short_array = np.zeros(NUM_CLUSTER)\n",
    "num_long_array = np.zeros(NUM_CLUSTER).astype(\"int\")\n",
    "num_short_array = np.zeros(NUM_CLUSTER).astype(\"int\")"
   ]
  },
  {
   "cell_type": "code",
   "execution_count": null,
   "metadata": {},
   "outputs": [],
   "source": []
  },
  {
   "cell_type": "code",
   "execution_count": null,
   "metadata": {},
   "outputs": [],
   "source": [
    "profit_long_array.shape"
   ]
  },
  {
   "cell_type": "code",
   "execution_count": null,
   "metadata": {},
   "outputs": [],
   "source": [
    "for i in range(len(X)):\n",
    "    profit_long_array[X_label[i]] += make_long_simple(Y[i], 0.002)\n",
    "    profit_short_array[X_label[i]] += make_short_simple(Y[i], 0.002)\n",
    "    lost_long_array[X_label[i]] += make_long_max_lost(Y[i], 0.002)\n",
    "    lost_short_array[X_label[i]] += make_short_max_lost(Y[i], 0.002)\n",
    "    num_long_array[X_label[i]] += 1\n",
    "    num_short_array[X_label[i]] += 1\n",
    "print(profit_long_array)\n",
    "print(profit_short_array)\n",
    "print(lost_long_array)\n",
    "print(lost_short_array)\n",
    "print(num_long_array)\n",
    "print(num_short_array)"
   ]
  },
  {
   "cell_type": "code",
   "execution_count": null,
   "metadata": {},
   "outputs": [],
   "source": [
    "import pickle\n",
    "pickle.dump(ac, open(\"ac_model\", 'wb'))"
   ]
  },
  {
   "cell_type": "code",
   "execution_count": null,
   "metadata": {},
   "outputs": [],
   "source": []
  }
 ],
 "metadata": {
  "kernelspec": {
   "display_name": "Python 3",
   "language": "python",
   "name": "python3"
  },
  "language_info": {
   "codemirror_mode": {
    "name": "ipython",
    "version": 3
   },
   "file_extension": ".py",
   "mimetype": "text/x-python",
   "name": "python",
   "nbconvert_exporter": "python",
   "pygments_lexer": "ipython3",
   "version": "3.7.6"
  }
 },
 "nbformat": 4,
 "nbformat_minor": 4
}
