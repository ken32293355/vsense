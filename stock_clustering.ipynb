{
 "cells": [
  {
   "cell_type": "code",
   "execution_count": 2,
   "metadata": {},
   "outputs": [],
   "source": [
    "import pandas as pd\n",
    "import numpy as np\n",
    "import time\n",
    "import datetime as dt\n",
    "import os\n",
    "from tqdm import tqdm\n",
    "from sklearn.cluster import KMeans\n",
    "from sklearn.cluster import AgglomerativeClustering\n",
    "from dtw import dtw\n",
    "from sklearn.metrics import pairwise_distances\n",
    "PRE_NAME = \"onemin_ohlc_\"\n",
    "BEGIN_TIME = \"09:00:00\"\n",
    "END_TIME = \"11:00:00\"\n",
    "def load_data():\n",
    "    X = []\n",
    "    Y = []\n",
    "    # df = pd.read_csv(os.path.join('dataset', '2327', PRE_NAME+\"20180612.csv\"))\n",
    "    # mask = (df.loc[:, \"time\"] >= BEGIN_TIME) & (df.loc[:, \"time\"] <= END_TIME)\n",
    "    # front_df = df[mask].loc[:, \"return\"]\n",
    "    # end_df = df[~mask].loc[:, \"return\"]\n",
    "    # X.append(np.array(front_df))\n",
    "    # Y.append(np.array(end_df))\n",
    "    # \"\"\"我是分隔線^^~\"\"\"\n",
    "    # df = pd.read_csv(os.path.join('dataset', '2327', PRE_NAME+\"20180613.csv\"))\n",
    "    # mask = (df.loc[:, \"time\"] >= BEGIN_TIME) & (df.loc[:, \"time\"] <= END_TIME)\n",
    "    # front_df = df[mask].loc[:, \"return\"]\n",
    "    # end_df = df[~mask].loc[:, \"return\"]\n",
    "    # X.append(np.array(front_df))\n",
    "    # Y.append(np.array(end_df))\n",
    "    \n",
    "    \n",
    "    sid = '2327'\n",
    "    for file in os.listdir(os.path.join('dataset', sid)):\n",
    "        # print(file)\n",
    "        df = pd.read_csv(os.path.join('dataset', sid, file))\n",
    "        mask = (df.loc[:, \"time\"] >= BEGIN_TIME) & (df.loc[:, \"time\"] <= END_TIME)\n",
    "        front_df = df[mask].loc[:, \"return\"]\n",
    "        # print(front_df)\n",
    "        # exit()\n",
    "        end_df = df[~mask].loc[:, \"return\"]\n",
    "        if len(front_df) == 121:\n",
    "        #     print(df.to_string())\n",
    "        #     exit()\n",
    "        # print(np.array(front_df).shape)\n",
    "            X.append(np.array(front_df))\n",
    "            Y.append(np.array(end_df))\n",
    "    # print(end_df)\n",
    "    # df = pd.read_csv(os.path.join('dataset', '2327', PRE_NAME+\"20180612.csv\"))\n",
    "    # print(len(X))\n",
    "    # print(len(X[0]))\n",
    "    # X = np.array(X)\n",
    "    # print(X.shape)\n",
    "        \n",
    "    # exit()\n",
    "    return np.array(X), np.array(Y)\n",
    "\n",
    "def dtw_d(X, Y):\n",
    "    manhattan_distance = lambda x, y: np.abs(x - y)\n",
    "    d, cost_matrix, acc_cost_matrix, path = dtw(X, Y, dist=manhattan_distance)\n",
    "    return d\n",
    "\n",
    "def dtw_affinity(X):\n",
    "    return pairwise_distances(X, metric=dtw_d)\n",
    "\n",
    "X, Y = load_data()\n",
    "\n",
    "ac = AgglomerativeClustering(n_clusters = 10,\n",
    "                             affinity = dtw_affinity,\n",
    "                             linkage = 'complete')\n",
    "X_label = ac.fit_predict(X)\n"
   ]
  },
  {
   "cell_type": "code",
   "execution_count": 3,
   "metadata": {},
   "outputs": [
    {
     "data": {
      "text/plain": [
       "array([0, 0, 0, 4, 9, 3, 2, 3, 9, 7, 5, 0, 9, 0, 9, 9, 7, 1, 9, 9, 1, 0,\n",
       "       7, 1, 0, 1, 9, 9, 1, 7, 4, 4, 9, 4, 2, 9, 1, 1, 7, 9, 2, 7, 3, 1,\n",
       "       0, 4, 1, 1, 6, 9, 4, 9, 9, 4, 9, 1, 9, 1, 7, 7, 3, 1, 1, 0, 4, 1,\n",
       "       6, 3, 1, 3, 3, 1, 0, 4, 7, 7, 6, 3, 7, 0, 2, 2, 8, 7, 0, 1, 9, 7,\n",
       "       0, 1, 9, 1, 1, 1, 1, 1, 1, 9, 3, 9, 1, 4, 0, 1, 0, 1, 3, 4, 4, 1,\n",
       "       7, 7, 9, 3, 1, 1, 4, 3, 2, 1, 9, 1, 1, 2, 2, 7, 4, 3, 1, 1, 0, 7,\n",
       "       7, 1, 7, 3, 1, 4, 1, 1, 9, 1, 1, 9, 7, 7, 7, 4, 1, 4, 7, 4, 7, 7,\n",
       "       4, 7, 1, 1, 4, 1, 1, 1, 9, 4, 7, 9, 3, 1, 3, 1, 9], dtype=int64)"
      ]
     },
     "execution_count": 3,
     "metadata": {},
     "output_type": "execute_result"
    }
   ],
   "source": [
    "X_label"
   ]
  },
  {
   "cell_type": "code",
   "execution_count": null,
   "metadata": {},
   "outputs": [],
   "source": []
  }
 ],
 "metadata": {
  "kernelspec": {
   "display_name": "Python 3",
   "language": "python",
   "name": "python3"
  },
  "language_info": {
   "codemirror_mode": {
    "name": "ipython",
    "version": 3
   },
   "file_extension": ".py",
   "mimetype": "text/x-python",
   "name": "python",
   "nbconvert_exporter": "python",
   "pygments_lexer": "ipython3",
   "version": "3.7.6"
  }
 },
 "nbformat": 4,
 "nbformat_minor": 4
}
