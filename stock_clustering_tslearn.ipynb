{
 "cells": [
  {
   "cell_type": "code",
   "execution_count": 1,
   "metadata": {
    "scrolled": false
   },
   "outputs": [
    {
     "name": "stderr",
     "output_type": "stream",
     "text": [
      "C:\\Users\\JingYou\\anaconda3\\lib\\site-packages\\sklearn\\utils\\deprecation.py:143: FutureWarning: The sklearn.cluster.k_means_ module is  deprecated in version 0.22 and will be removed in version 0.24. The corresponding classes / functions should instead be imported from sklearn.cluster. Anything that cannot be imported from sklearn.cluster is now part of the private API.\n",
      "  warnings.warn(message, FutureWarning)\n"
     ]
    }
   ],
   "source": [
    "import matplotlib.pyplot as plt\n",
    "import pandas as pd\n",
    "import numpy as np\n",
    "import time\n",
    "import datetime as dt\n",
    "import os\n",
    "from tqdm import tqdm\n",
    "from sklearn.cluster import KMeans\n",
    "from sklearn.cluster import AgglomerativeClustering\n",
    "from dtw import dtw\n",
    "from sklearn.metrics import pairwise_distances\n",
    "import pickle\n",
    "from scipy.spatial.distance import euclidean\n",
    "from fastdtw import fastdtw\n",
    "from tslearn.clustering import TimeSeriesKMeans\n",
    "from tslearn.datasets import CachedDatasets\n",
    "from tslearn.preprocessing import TimeSeriesScalerMeanVariance, \\\n",
    "    TimeSeriesResampler"
   ]
  },
  {
   "cell_type": "code",
   "execution_count": 5,
   "metadata": {},
   "outputs": [],
   "source": [
    "PRE_NAME = \"onemin_ohlc_\"\n",
    "BEGIN_TIME = \"09:00:00\"\n",
    "END_TIME = \"10:30:00\"\n",
    "NUM_CLUSTER = 50\n",
    "TIME_STEP = 5"
   ]
  },
  {
   "cell_type": "code",
   "execution_count": 216,
   "metadata": {},
   "outputs": [],
   "source": [
    "def load_data(date_begin='20180612', date_end = '20200301', split_date_begin = '20200302', split_date_end = '20200915', train = True):\n",
    "# def load_data(date_begin='20180612', date_end = '20180730', split_date_begin = '20180801', split_date_end = '20180830', train = True):\n",
    "\n",
    "    X = []\n",
    "    Y = []\n",
    "    h1, m1, s1 = [int(x) for x in BEGIN_TIME.split(\":\")]\n",
    "    h2, m2, s2 = [int(x) for x in END_TIME.split(\":\")]\n",
    "    t1 = dt.timedelta(hours = h1, minutes=m1)\n",
    "    t2 = dt.timedelta(hours = h2, minutes=m2)\n",
    "    total_mins = (t2-t1).total_seconds()//60\n",
    "    \n",
    "    \n",
    "    for sid in tqdm(os.listdir(os.path.join('dataset'))):\n",
    "        for file in os.listdir(os.path.join('dataset', sid)):\n",
    "            curday = file[12:20]\n",
    "            if (train == True and curday <= date_end and curday >= date_begin) or (train == False and curday >= split_date_begin and curday <= split_date_end):\n",
    "                df = pd.read_csv(os.path.join('dataset', sid, file))\n",
    "                df = df\n",
    "                mask = (df.loc[:, \"time\"] >= BEGIN_TIME) & (df.loc[:, \"time\"] <= END_TIME)\n",
    "                front_df = df[mask].loc[:, \"return\"]\n",
    "                front_df = front_df.take(np.arange(0, len(front_df), TIME_STEP))\n",
    "                end_df = df[~mask].loc[:, \"close\"]\n",
    "                if len(front_df) == (90 // TIME_STEP +1):\n",
    "                    X.append(np.array(front_df))\n",
    "                    Y.append(np.array(end_df))\n",
    "    return np.array(X), np.array(Y)\n",
    "\n",
    "def dtw_d(X, Y):\n",
    "    manhattan_distance = lambda x, y: np.abs(x - y)\n",
    "    d, cost_matrix, acc_cost_matrix, path = dtw(X, Y, dist=manhattan_distance)\n",
    "    return d\n",
    "\n",
    "def dtw_affinity(X):\n",
    "    return pairwise_distances(X, metric=dtw_d)\n",
    "\n",
    "def fastdtw_d(X, Y):\n",
    "    return fastdtw(X, Y, dist=euclidean)[0]\n",
    "\n",
    "def fastdtw_affinity(X):\n",
    "    return pairwise_distances(X, metric=fastdtw_d)\n",
    "def show_clustering():\n",
    "    for n in range(NUM_CLUSTER):\n",
    "        plt.title(n)\n",
    "        for i in range(len(X)):\n",
    "        #     plt.subplot(10, 1, X_label[i]+1)\n",
    "            if X_label[i] == n:\n",
    "                plt.plot(X[i])\n",
    "        plt.show()\n",
    "def train(max_iter = 300, n_clusters = 50):\n",
    "    t1 = time.time()\n",
    "    km = TimeSeriesKMeans(max_iter = max_iter, n_clusters=n_clusters, metric=\"dtw\", n_jobs=5)\n",
    "    X_label = km.fit_predict(X)\n",
    "    t2 = time.time()\n",
    "    print(\"training time\", t2-t1)\n",
    "    return km\n",
    "\n",
    "def make_long_simple(y, cost):\n",
    "    return y.max(),   y[0] * (1 + cost)\n",
    "def make_short_simple(y, cost):\n",
    "    return y[0], y.min() * (1 + cost)\n",
    "def make_long_max_lost(y, cost):\n",
    "    return y.min() - y[0] - cost\n",
    "def make_short_max_lost(y, cost):\n",
    "    return y[0], - y.max() - cost\n",
    "def make_long(y, cost, exp_profit):\n",
    "    if (y- (y[0] * (1+cost)) >= exp_profit).any():\n",
    "        return y[0] *( 1 + exp_profit),   y[0] * (1 + cost)\n",
    "    else:\n",
    "        return y[-1],   y[0] * (1 + cost)\n",
    "def make_short(y, cost, exp_profit):\n",
    "    if (y[0] - y >=  y[0] * (exp_profit + cost)).any():\n",
    "        return y[0] * (1-cost), y[0] * (1-exp_profit) \n",
    "    else:\n",
    "        return y[0] * (1-cost), y[-1]\n",
    "    \n",
    "def evaluate_km(X_test, Y_test, X_label, exp_profit=0.025):\n",
    "    profit_long_array = np.zeros(NUM_CLUSTER)\n",
    "    profit_short_array = np.zeros(NUM_CLUSTER)\n",
    "    cost_long_array = np.zeros(NUM_CLUSTER)\n",
    "    cost_short_array = np.zeros(NUM_CLUSTER)\n",
    "    num_exchange_array = np.zeros(NUM_CLUSTER).astype(\"int\")\n",
    "    for i in range(len(X_test)):\n",
    "    #     p, l = make_long_simple(Y[i], 0.002)\n",
    "    #     profit_long_array[X_label[i]] += p\n",
    "    #     cost_short_array[X_label[i]] += l\n",
    "        p, l = make_short(Y_test[i], 0.002, exp_profit)\n",
    "        profit_short_array[X_label[i]] += p\n",
    "        cost_short_array[X_label[i]] += l\n",
    "        num_exchange_array[X_label[i]] += 1\n",
    "\n",
    "    return profit_long_array, profit_short_array, cost_long_array, cost_short_array, num_exchange_array"
   ]
  },
  {
   "cell_type": "code",
   "execution_count": 204,
   "metadata": {},
   "outputs": [],
   "source": [
    "y = Y[2]"
   ]
  },
  {
   "cell_type": "code",
   "execution_count": 205,
   "metadata": {},
   "outputs": [],
   "source": [
    "exp_profit = 0.025\n",
    "cost = 0.002"
   ]
  },
  {
   "cell_type": "code",
   "execution_count": 206,
   "metadata": {
    "scrolled": true
   },
   "outputs": [
    {
     "data": {
      "text/plain": [
       "array([  0.,  -2.,  -2.,  -7.,  -3.,  -2.,  -1.,  -3.,   0.,   6.,   8.,\n",
       "         5.,   8.,   8.,   8.,   7.,   7.,   7.,  10.,  15.,  18.,  20.,\n",
       "        23.,  23.,  24.,  24.,  25.,  27.,  26.,  27.,  30.,  28.,  27.,\n",
       "        23.,  23.,  21.,  17.,  21.,  19.,  15.,   9.,  10.,   8.,  10.,\n",
       "        11.,  11.,  11.,   5.,   5.,   1.,   0.,  -7.,  -7.,  -5.,  -3.,\n",
       "        -5.,  -4.,  -4.,  -3.,  -7.,  -9., -10., -11.,  -8.,  -6.,  -8.,\n",
       "        -7.,  -6.,  -7.,  -7.,  -7.,  -6.,  -4.,   0.,  -2.,  -4.,  -3.,\n",
       "        -5.,  -6., -10.,  -6., -10., -12., -17., -19., -22., -21., -21.,\n",
       "       -18., -23., -24., -25., -28., -31., -31., -29., -31., -34., -37.,\n",
       "       -37., -42., -52., -42., -42., -47., -47., -42., -42., -42., -42.,\n",
       "       -42., -42., -42., -42., -37., -47., -52., -47., -52., -57., -57.,\n",
       "       -57., -57., -52., -52., -47., -47., -47., -42., -37., -42., -42.,\n",
       "       -42., -47., -47., -52., -47., -47., -47., -42., -47., -47., -42.,\n",
       "       -42., -42., -42., -37., -37., -42., -42., -42., -37., -37., -42.,\n",
       "       -37., -37., -37., -37., -37., -37., -37., -42., -47., -52., -57.,\n",
       "       -52., -52., -47., -47., -52., -57., -57., -52., -52., -47.])"
      ]
     },
     "execution_count": 206,
     "metadata": {},
     "output_type": "execute_result"
    }
   ],
   "source": [
    "y[0] - y"
   ]
  },
  {
   "cell_type": "code",
   "execution_count": 207,
   "metadata": {},
   "outputs": [
    {
     "data": {
      "text/plain": [
       "26.001000000000005"
      ]
     },
     "execution_count": 207,
     "metadata": {},
     "output_type": "execute_result"
    }
   ],
   "source": [
    "y[0] * (exp_profit+cost)"
   ]
  },
  {
   "cell_type": "code",
   "execution_count": 208,
   "metadata": {
    "scrolled": true
   },
   "outputs": [],
   "source": [
    "y = Y[1]"
   ]
  },
  {
   "cell_type": "code",
   "execution_count": 172,
   "metadata": {},
   "outputs": [
    {
     "data": {
      "text/plain": [
       "1111.5"
      ]
     },
     "execution_count": 172,
     "metadata": {},
     "output_type": "execute_result"
    }
   ],
   "source": [
    "y[0]*(1-0.025)"
   ]
  },
  {
   "cell_type": "code",
   "execution_count": 183,
   "metadata": {},
   "outputs": [
    {
     "data": {
      "text/plain": [
       "(1117.2, 1135.0)"
      ]
     },
     "execution_count": 183,
     "metadata": {},
     "output_type": "execute_result"
    }
   ],
   "source": [
    "make_short(Y[0], 0.02, 0.04)"
   ]
  },
  {
   "cell_type": "code",
   "execution_count": 129,
   "metadata": {
    "scrolled": true
   },
   "outputs": [
    {
     "name": "stderr",
     "output_type": "stream",
     "text": [
      "100%|██████████| 13/13 [00:49<00:00,  3.78s/it]\n"
     ]
    }
   ],
   "source": [
    "X, Y = load_data()"
   ]
  },
  {
   "cell_type": "code",
   "execution_count": 130,
   "metadata": {
    "scrolled": false
   },
   "outputs": [
    {
     "name": "stderr",
     "output_type": "stream",
     "text": [
      "100%|██████████| 13/13 [00:22<00:00,  1.76s/it]\n"
     ]
    }
   ],
   "source": [
    "X_test, Y_test = load_data(train=False)"
   ]
  },
  {
   "cell_type": "code",
   "execution_count": 7,
   "metadata": {},
   "outputs": [
    {
     "name": "stdout",
     "output_type": "stream",
     "text": [
      "(2990, 19)\n"
     ]
    }
   ],
   "source": [
    "print(X.shape)"
   ]
  },
  {
   "cell_type": "code",
   "execution_count": 8,
   "metadata": {
    "scrolled": false
   },
   "outputs": [
    {
     "name": "stdout",
     "output_type": "stream",
     "text": [
      "(915, 19)\n"
     ]
    }
   ],
   "source": [
    "print(X_test.shape)"
   ]
  },
  {
   "cell_type": "markdown",
   "metadata": {},
   "source": [
    "t1 = time.time()\n",
    "fastdtw_affinity(X)\n",
    "t2 = time.time()\n",
    "print(\"time:\", t2-t1)\n",
    "t1 = time.time()\n",
    "dtw_affinity(X)\n",
    "t2 = time.time()\n",
    "print(\"time:\", t2-t1)"
   ]
  },
  {
   "cell_type": "code",
   "execution_count": 107,
   "metadata": {},
   "outputs": [
    {
     "name": "stdout",
     "output_type": "stream",
     "text": [
      "training time 175.69941186904907\n"
     ]
    }
   ],
   "source": [
    "km = train()"
   ]
  },
  {
   "cell_type": "markdown",
   "metadata": {},
   "source": [
    "t1 = time.time()\n",
    "ac = AgglomerativeClustering(n_clusters = NUM_CLUSTER,\n",
    "                             affinity = fastdtw_affinity,\n",
    "                             linkage = 'complete')\n",
    "X_label = ac.fit_predict(X)\n",
    "t2 = time.time()\n",
    "print(t2-t1)"
   ]
  },
  {
   "cell_type": "code",
   "execution_count": 9,
   "metadata": {},
   "outputs": [
    {
     "name": "stdout",
     "output_type": "stream",
     "text": [
      "time 228.74551129341125\n"
     ]
    }
   ],
   "source": [
    "t1 = time.time()\n",
    "km = TimeSeriesKMeans(n_clusters=50, metric=\"dtw\", n_jobs=5)\n",
    "X_label = km.fit_predict(X)\n",
    "t2 = time.time()\n",
    "print(\"time\", t2-t1)"
   ]
  },
  {
   "cell_type": "markdown",
   "metadata": {},
   "source": [
    "t1 = time.time()\n",
    "ac = AgglomerativeClustering(n_clusters = NUM_CLUSTER,\n",
    "                             affinity = dtw_affinity,\n",
    "                             linkage = 'complete')\n",
    "X_label = ac.fit_predict(X)\n",
    "t2 = time.time()\n",
    "print(t2-t1)"
   ]
  },
  {
   "cell_type": "markdown",
   "metadata": {},
   "source": [
    "t1 = time.time()\n",
    "ac = AgglomerativeClustering(n_clusters = NUM_CLUSTER,\n",
    "                             linkage = 'complete')\n",
    "X_label = ac.fit_predict(X)\n",
    "t2 = time.time()\n",
    "print(t2-t1)"
   ]
  },
  {
   "cell_type": "code",
   "execution_count": 149,
   "metadata": {
    "scrolled": true
   },
   "outputs": [
    {
     "data": {
      "text/plain": [
       "array([20, 25, 20, ...,  3, 17, 11], dtype=int64)"
      ]
     },
     "execution_count": 149,
     "metadata": {},
     "output_type": "execute_result"
    }
   ],
   "source": [
    "X_label"
   ]
  },
  {
   "cell_type": "markdown",
   "metadata": {},
   "source": [
    "pickle.dump(X, open(os.path.join('dataset_pk',\"X_ts.pk\"), \"wb\"))\n",
    "pickle.dump(Y, open(os.path.join('dataset_pk',\"Y_ts.pk\"), \"wb\"))\n"
   ]
  },
  {
   "cell_type": "code",
   "execution_count": null,
   "metadata": {},
   "outputs": [],
   "source": []
  },
  {
   "cell_type": "code",
   "execution_count": 211,
   "metadata": {
    "scrolled": true
   },
   "outputs": [],
   "source": [
    "# show_clustering()"
   ]
  },
  {
   "cell_type": "markdown",
   "metadata": {},
   "source": [
    "def make_table(X, X_label):\n",
    "    X_mean = np.zeros((len(X_label), len(X[0])))\n",
    "    for i in range(NUM_CLUSTER):\n",
    "        X_mean[X_label[i]] = X[X_label==i].mean(axis=0)\n",
    "    return X_mean\n",
    "X_table = make_table(X, X_label)\n",
    "pickle.dump(X_table, open(os.path.join('dataset_pk',\"X_ts_tabel.pk\"), \"wb\"))"
   ]
  },
  {
   "cell_type": "code",
   "execution_count": 31,
   "metadata": {},
   "outputs": [
    {
     "data": {
      "text/plain": [
       "2990"
      ]
     },
     "execution_count": 31,
     "metadata": {},
     "output_type": "execute_result"
    }
   ],
   "source": [
    "len(X)"
   ]
  },
  {
   "cell_type": "code",
   "execution_count": 132,
   "metadata": {},
   "outputs": [
    {
     "data": {
      "text/plain": [
       "(2990,)"
      ]
     },
     "execution_count": 132,
     "metadata": {},
     "output_type": "execute_result"
    }
   ],
   "source": [
    "Y.shape"
   ]
  },
  {
   "cell_type": "markdown",
   "metadata": {},
   "source": [
    "pickle.dump(km, open(\"km.pk\", 'wb'))"
   ]
  },
  {
   "cell_type": "markdown",
   "metadata": {},
   "source": [
    "km = pickle.load(open(\"km.pk\", 'rb'))"
   ]
  },
  {
   "cell_type": "markdown",
   "metadata": {},
   "source": [
    "km = pickle.load(open(\"km.pk\", 'rb'))\n",
    "X = pickle.load(open(os.path.join('dataset_pk',\"X_ts.pk\"), 'rb'))\n",
    "Y = pickle.load(open(os.path.join('dataset_pk',\"Y_ts.pk\"), 'rb'))\n",
    "X_test = pickle.load(open(os.path.join('dataset_pk',\"X_test.pk\"), 'rb'))\n",
    "Y_test = pickle.load(open(os.path.join('dataset_pk',\"X_test.pk\"), 'rb'))"
   ]
  },
  {
   "cell_type": "markdown",
   "metadata": {},
   "source": [
    "X_label = km.predict(X)"
   ]
  },
  {
   "cell_type": "markdown",
   "metadata": {},
   "source": [
    "X_label"
   ]
  },
  {
   "cell_type": "code",
   "execution_count": null,
   "metadata": {},
   "outputs": [],
   "source": []
  },
  {
   "cell_type": "code",
   "execution_count": null,
   "metadata": {},
   "outputs": [],
   "source": []
  },
  {
   "cell_type": "code",
   "execution_count": 222,
   "metadata": {
    "scrolled": false
   },
   "outputs": [
    {
     "name": "stdout",
     "output_type": "stream",
     "text": [
      "0.025 [0.0013360053440213742, 0.0003198584222908367, 0.00015783863790756503, 0.00012885171260344446, 7.157949777640068e-05, 7.099743942510306e-05, 4.3680025119398784e-05, 1.4522579632451548e-05, 9.786305983125142e-06, 8.681374106212333e-06]\n"
     ]
    }
   ],
   "source": [
    "profit_long_array = np.zeros(NUM_CLUSTER)\n",
    "profit_short_array = np.zeros(NUM_CLUSTER)\n",
    "cost_long_array = np.zeros(NUM_CLUSTER)\n",
    "cost_short_array = np.zeros(NUM_CLUSTER)\n",
    "num_exchange_array = np.zeros(NUM_CLUSTER).astype(\"int\")\n",
    "for i in range(len(X)):\n",
    "    p, l = make_short(Y[i], 0.002, 0.01)\n",
    "    profit_short_array[X_label[i]] += p\n",
    "    cost_short_array[X_label[i]] += l\n",
    "    num_exchange_array[X_label[i]] += 1\n",
    "print(\"0.025\" ,sorted((profit_short_array-cost_short_array)/profit_short_array/num_exchange_array)[::-1][:10])\n",
    "best_short_cluster = np.argsort((profit_short_array-cost_short_array)/profit_short_array/num_exchange_array)[::-1]\n",
    "\n",
    "# profit_long_array = np.zeros(NUM_CLUSTER)\n",
    "# profit_short_array = np.zeros(NUM_CLUSTER)\n",
    "# cost_long_array = np.zeros(NUM_CLUSTER)\n",
    "# cost_short_array = np.zeros(NUM_CLUSTER)\n",
    "# num_exchange_array = np.zeros(NUM_CLUSTER).astype(\"int\")\n",
    "\n",
    "# for i in range(len(X)):\n",
    "#     p, l = make_short(Y[i], 0.002, 0.02)\n",
    "#     profit_short_array[X_label[i]] += p\n",
    "#     cost_short_array[X_label[i]] += l\n",
    "#     num_exchange_array[X_label[i]] += 1\n",
    "# print('0.02' ,sorted((profit_short_array-cost_short_array)/profit_short_array/num_exchange_array)[::-1][:10])\n",
    "\n",
    "# profit_long_array = np.zeros(NUM_CLUSTER)\n",
    "# profit_short_array = np.zeros(NUM_CLUSTER)\n",
    "# cost_long_array = np.zeros(NUM_CLUSTER)\n",
    "# cost_short_array = np.zeros(NUM_CLUSTER)\n",
    "# num_exchange_array = np.zeros(NUM_CLUSTER).astype(\"int\")\n",
    "\n",
    "# for i in range(len(X)):\n",
    "#     p, l = make_short(Y[i], 0.002, 0.025)\n",
    "#     profit_short_array[X_label[i]] += p\n",
    "#     cost_short_array[X_label[i]] += l\n",
    "#     num_exchange_array[X_label[i]] += 1\n",
    "# print('0.025' ,sorted((profit_short_array-cost_short_array)/profit_short_array/num_exchange_array)[::-1][:10])\n",
    "\n",
    "# profit_long_array = np.zeros(NUM_CLUSTER)\n",
    "# profit_short_array = np.zeros(NUM_CLUSTER)\n",
    "# cost_long_array = np.zeros(NUM_CLUSTER)\n",
    "# cost_short_array = np.zeros(NUM_CLUSTER)\n",
    "# num_exchange_array = np.zeros(NUM_CLUSTER).astype(\"int\")\n",
    "\n",
    "# for i in range(len(X)):\n",
    "#     p, l = make_short(Y[i], 0.002, 0.03)\n",
    "#     profit_short_array[X_label[i]] += p\n",
    "#     cost_short_array[X_label[i]] += l\n",
    "#     num_exchange_array[X_label[i]] += 1\n",
    "# print('0.03' ,sorted((profit_short_array-cost_short_array)/profit_short_array/num_exchange_array)[::-1][:10])\n",
    "# best_short_cluster = np.argsort((profit_short_array-cost_short_array)/profit_short_array/num_exchange_array)[::-1]\n",
    "\n",
    "# profit_long_array = np.zeros(NUM_CLUSTER)\n",
    "# profit_short_array = np.zeros(NUM_CLUSTER)\n",
    "# cost_long_array = np.zeros(NUM_CLUSTER)\n",
    "# cost_short_array = np.zeros(NUM_CLUSTER)\n",
    "# num_exchange_array = np.zeros(NUM_CLUSTER).astype(\"int\")\n",
    "\n",
    "# for i in range(len(X)):\n",
    "#     p, l = make_short(Y[i], 0.002, 0.04)\n",
    "#     profit_short_array[X_label[i]] += p\n",
    "#     cost_short_array[X_label[i]] += l\n",
    "#     num_exchange_array[X_label[i]] += 1\n",
    "# print('0.04' ,sorted((profit_short_array-cost_short_array)/profit_short_array/num_exchange_array)[::-1][:10])\n",
    "# best_short_cluster = np.argsort((profit_short_array-cost_short_array)/profit_short_array/num_exchange_array)[::-1]\n"
   ]
  },
  {
   "cell_type": "code",
   "execution_count": 223,
   "metadata": {
    "scrolled": false
   },
   "outputs": [
    {
     "name": "stdout",
     "output_type": "stream",
     "text": [
      "[15 46 47 20 49  4 18 19 21 43 25 10 41  7 11 44 39 26 35  3  0 40 31  2\n",
      " 27 32 13  6 22 17 23 38 16 30 24 33  5 14  1  8 29 45 36 34 42 48 28  9\n",
      " 37 12]\n"
     ]
    }
   ],
   "source": [
    "print(best_short_cluster)"
   ]
  },
  {
   "cell_type": "code",
   "execution_count": 45,
   "metadata": {
    "scrolled": true
   },
   "outputs": [],
   "source": [
    "Y_pred = km.predict(X.reshape(len(X), len(X[0]), 1))"
   ]
  },
  {
   "cell_type": "code",
   "execution_count": 146,
   "metadata": {},
   "outputs": [],
   "source": [
    "y_test_pred =  km.predict(X_test.reshape(len(X_test), len(X_test[0]), 1))"
   ]
  },
  {
   "cell_type": "code",
   "execution_count": 219,
   "metadata": {
    "scrolled": false
   },
   "outputs": [
    {
     "data": {
      "text/plain": [
       "array([25157.9333, 12322.8549,  3084.2192, 12558.7322,  3901.7309,\n",
       "       14635.9195, 13973.3473, 27452.3353,  4786.408 ,   208.582 ,\n",
       "       29376.8785, 14372.198 ,   134.231 , 22816.3259,  8228.1607,\n",
       "        1143.209 , 12579.291 , 13999.0458,  5744.987 , 10393.5213,\n",
       "        4198.7357,  3341.4038, 21721.4201,  7727.9132, 15105.2789,\n",
       "        8348.8189, 27827.4835,  9734.6417,  4776.7274, 11281.0427,\n",
       "        5048.6325, 28193.5   ,  7353.8628,  8192.4822,  2428.7827,\n",
       "       12689.1209,  3951.5311,  1314.366 , 15071.1473, 16068.6982,\n",
       "       19597.6761, 22118.2249,  1417.0602, 13938.0181, 26446.2515,\n",
       "        6939.5431,  2916.655 ,  6674.0751,   878.9386,  1168.0592])"
      ]
     },
     "execution_count": 219,
     "metadata": {},
     "output_type": "execute_result"
    }
   ],
   "source": [
    "profit_short_array"
   ]
  },
  {
   "cell_type": "code",
   "execution_count": 224,
   "metadata": {
    "scrolled": false
   },
   "outputs": [
    {
     "name": "stdout",
     "output_type": "stream",
     "text": [
      "15 0.0 0\n",
      "46 0.023589743589743573 1\n",
      "47 0.0013782397963504696 11\n",
      "20 0.023589743589743566 1\n",
      "49 -0.000652309479672996 7\n",
      "4 0.0003378952064355585 9\n",
      "18 0.0 0\n",
      "19 0.00010391135670966041 29\n",
      "21 -0.00012594659776058427 9\n",
      "43 0.00023406427953975894 26\n",
      "25 0.001448112577981688 12\n",
      "10 -7.817716477698498e-05 47\n",
      "41 -1.2752298693474264e-05 33\n",
      "7 5.5462755696576135e-05 50\n",
      "11 -3.7184227435146374e-05 29\n",
      "44 -0.00012719566807020927 50\n",
      "39 -4.581784841776558e-05 19\n",
      "26 5.452815279297665e-06 50\n",
      "35 0.0001333447416553916 29\n",
      "3 -0.0002148620082068123 19\n",
      "0 5.045453166114918e-05 60\n",
      "40 -0.0001200071404950927 31\n",
      "31 -0.00013923328658572255 42\n",
      "2 0.003475541443885782 4\n",
      "27 0.0006584348611673762 11\n",
      "32 -0.0015485095410005193 10\n",
      "13 -2.8125860990618136e-05 36\n",
      "6 -2.9218709297075464e-05 16\n",
      "22 -0.00014967492253488998 35\n",
      "17 -0.00019635221303686875 19\n",
      "23 -0.001334672673578924 9\n",
      "38 -3.734354582883528e-05 16\n",
      "16 5.0865075000710715e-05 16\n",
      "30 -0.0026321934317565412 7\n",
      "24 0.00018214008596447587 48\n",
      "33 -0.0005735881312751211 19\n",
      "5 -0.0004543427394314969 23\n",
      "14 -0.0008364650882219723 5\n",
      "1 0.0005811620704102491 10\n",
      "8 3.2023049653086074e-05 8\n",
      "29 0.0001692632047621563 13\n",
      "45 6.444194439468454e-05 7\n",
      "36 -0.0004623122112845657 8\n",
      "34 -0.0001581786958728196 7\n",
      "42 -0.0002199779143443129 13\n",
      "48 -0.00045235949576445336 8\n",
      "28 -0.00648178477690289 3\n",
      "9 0.0 0\n",
      "37 0.0 0\n",
      "12 0.0 0\n"
     ]
    },
    {
     "name": "stderr",
     "output_type": "stream",
     "text": [
      "C:\\Users\\JingYou\\anaconda3\\lib\\site-packages\\ipykernel_launcher.py:2: RuntimeWarning: invalid value encountered in true_divide\n",
      "  \n"
     ]
    }
   ],
   "source": [
    "profit_long_array, profit_short_array, cost_long_array, cost_short_array, num_exchange_array = evaluate_km(X_test, Y_test, y_test_pred)\n",
    "avg_profit = (profit_short_array-cost_short_array)/cost_short_array/num_exchange_array\n",
    "avg_profit[np.isnan(avg_profit)] = 0\n",
    "for i in range(len(best_short_cluster)):\n",
    "    n = num_exchange_array[best_short_cluster[i]]\n",
    "    print(best_short_cluster[i], avg_profit[best_short_cluster[i]], n)"
   ]
  },
  {
   "cell_type": "markdown",
   "metadata": {},
   "source": [
    "for i in range(NUM_CLUSTER):\n",
    "    print(i, best_short_cluster[i], num_exchange_array[best_short_cluster[i]])"
   ]
  },
  {
   "cell_type": "code",
   "execution_count": 225,
   "metadata": {
    "scrolled": true
   },
   "outputs": [
    {
     "name": "stdout",
     "output_type": "stream",
     "text": [
      "15 nan 0\n",
      "46 0.023589743589743573 1\n",
      "47 0.0013782397963504696 11\n",
      "20 0.023589743589743566 1\n",
      "49 -0.000652309479672996 7\n",
      "4 0.0003378952064355585 9\n",
      "18 nan 0\n",
      "19 0.00010391135670966041 29\n",
      "21 -0.00012594659776058427 9\n",
      "43 0.00023406427953975894 26\n"
     ]
    },
    {
     "name": "stderr",
     "output_type": "stream",
     "text": [
      "C:\\Users\\JingYou\\anaconda3\\lib\\site-packages\\ipykernel_launcher.py:6: RuntimeWarning: invalid value encountered in double_scalars\n",
      "  \n"
     ]
    }
   ],
   "source": [
    "for j in range(10):\n",
    "    i = best_short_cluster[j]\n",
    "    p = profit_short_array[i]\n",
    "    c = cost_short_array[i]\n",
    "    n = num_exchange_array[i]\n",
    "    print(i, (p-c)/c/n, n)"
   ]
  },
  {
   "cell_type": "code",
   "execution_count": 226,
   "metadata": {},
   "outputs": [
    {
     "name": "stdout",
     "output_type": "stream",
     "text": [
      "0.002888697929081567\n"
     ]
    }
   ],
   "source": [
    "s = 0\n",
    "n = 0\n",
    "for i in range(5):\n",
    "    j = best_short_cluster[i]\n",
    "    s += avg_profit[j] * num_exchange_array[j]\n",
    "    n += num_exchange_array[j]\n",
    "print(s/n)"
   ]
  },
  {
   "cell_type": "code",
   "execution_count": 227,
   "metadata": {},
   "outputs": [
    {
     "name": "stdout",
     "output_type": "stream",
     "text": [
      "0.0007395763083045162\n"
     ]
    }
   ],
   "source": [
    "s = 0\n",
    "n = 0\n",
    "for i in range(10):\n",
    "    j = best_short_cluster[i]\n",
    "    s += avg_profit[j] * num_exchange_array[j]\n",
    "    n += num_exchange_array[j]\n",
    "print(s/n)"
   ]
  },
  {
   "cell_type": "code",
   "execution_count": null,
   "metadata": {},
   "outputs": [
    {
     "data": {
      "image/png": "[encoded data removed]",
      "text/plain": [
       "<Figure size 432x288 with 1 Axes>"
      ]
     },
     "metadata": {
      "needs_background": "light"
     },
     "output_type": "display_data"
    },
    {
     "data": {
      "image/png": "[encoded data removed]",
      "text/plain": [
       "<Figure size 432x288 with 1 Axes>"
      ]
     },
     "metadata": {
      "needs_background": "light"
     },
     "output_type": "display_data"
    }
   ],
   "source": [
    "for n in range(10):\n",
    "    plt.title(n)\n",
    "    for i in range(len(X)):\n",
    "    #     plt.subplot(10, 1, X_label[i]+1)\n",
    "        if X_label[i] == best_short_cluster[n]:\n",
    "            plt.plot(X[i])\n",
    "    plt.show()"
   ]
  },
  {
   "cell_type": "code",
   "execution_count": null,
   "metadata": {},
   "outputs": [],
   "source": [
    "print()"
   ]
  },
  {
   "cell_type": "code",
   "execution_count": null,
   "metadata": {},
   "outputs": [],
   "source": []
  }
 ],
 "metadata": {
  "kernelspec": {
   "display_name": "Python 3",
   "language": "python",
   "name": "python3"
  },
  "language_info": {
   "codemirror_mode": {
    "name": "ipython",
    "version": 3
   },
   "file_extension": ".py",
   "mimetype": "text/x-python",
   "name": "python",
   "nbconvert_exporter": "python",
   "pygments_lexer": "ipython3",
   "version": "3.7.6"
  }
 },
 "nbformat": 4,
 "nbformat_minor": 4
}
