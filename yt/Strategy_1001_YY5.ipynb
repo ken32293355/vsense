{
  "nbformat": 4,
  "nbformat_minor": 0,
  "metadata": {
    "colab": {
      "name": "Strategy_1001_YY5.ipynb",
      "provenance": [],
      "collapsed_sections": [],
      "toc_visible": true
    },
    "kernelspec": {
      "name": "python3",
      "display_name": "Python 3"
    }
  },
  "cells": [
    {
      "cell_type": "code",
      "metadata": {
        "id": "46feCMLgsSpF",
        "outputId": "69840218-a1b9-4b9b-d8af-761ec936dc2b",
        "colab": {
          "base_uri": "https://localhost:8080/",
          "height": 55
        }
      },
      "source": [
        "from google.colab import drive\n",
        "drive.mount('/content/gdrive')"
      ],
      "execution_count": 7,
      "outputs": [
        {
          "output_type": "stream",
          "text": [
            "Drive already mounted at /content/gdrive; to attempt to forcibly remount, call drive.mount(\"/content/gdrive\", force_remount=True).\n"
          ],
          "name": "stdout"
        }
      ]
    },
    {
      "cell_type": "code",
      "metadata": {
        "id": "jzmC_6fxsXR1"
      },
      "source": [
        "import pandas as pd\n",
        "import numpy as np\n",
        "import datetime as dt\n",
        "import os\n",
        "import matplotlib.pyplot as plt\n"
      ],
      "execution_count": 8,
      "outputs": []
    },
    {
      "cell_type": "code",
      "metadata": {
        "id": "mZhHFzyAFnXe"
      },
      "source": [
        "work_path = '/content/gdrive/Shared drives/marketdata/stock/'\n",
        "os.chdir(work_path)"
      ],
      "execution_count": 9,
      "outputs": []
    },
    {
      "cell_type": "markdown",
      "metadata": {
        "id": "Sr8a3fFI_zOv"
      },
      "source": [
        "### Define Parameters"
      ]
    },
    {
      "cell_type": "code",
      "metadata": {
        "id": "1rAt33OFoCSK"
      },
      "source": [
        "STOP_PROFIT = 1\n",
        "STOP_LOSS = 2\n",
        "TIME_OUT = 3"
      ],
      "execution_count": 10,
      "outputs": []
    },
    {
      "cell_type": "code",
      "metadata": {
        "id": "m0hP45_xC-xg"
      },
      "source": [
        "def numtotime(num):\n",
        "    ms = num % 1000\n",
        "    num //= 1000\n",
        "    s = num % 100\n",
        "    num //= 100\n",
        "    mi = num % 100\n",
        "    num //= 100\n",
        "    h = num % 100\n",
        "    num = num // 100\n",
        "    # print(h, mi, s, ms)\n",
        "    return dt.datetime(2020, 9, 21, h, mi, s, ms) # TODO"
      ],
      "execution_count": 11,
      "outputs": []
    },
    {
      "cell_type": "markdown",
      "metadata": {
        "id": "zVxuscY3fwP7"
      },
      "source": [
        "# Hft_strategy"
      ]
    },
    {
      "cell_type": "code",
      "metadata": {
        "id": "8RBnoC2sF6Qt"
      },
      "source": [
        "class Hft_strategy:\n",
        "    def __init__(self, lob_file, tick_file):\n",
        "        self.lob_file = open(lob_file)\n",
        "        self.tick_file = open(tick_file)\n",
        "        self.df = pd.read_csv(tick_file)\n",
        "        self.df[\"time\"] = self.df[\"time\"].apply(func = numtotime)\n",
        "        self.df.set_index(\"time\", inplace = True)\n",
        "        self.lob_col = self.lob_file.readline()[:-1].split(\",\")\n",
        "        self.tick_col = self.tick_file.readline()[:-1].split(\",\")\n",
        "        self.ref_num = 0\n",
        "        self.num_buy = 0\n",
        "        self.num_sell = 0\n",
        "        self.ask1_p = 0\n",
        "        self.ask2_p = 0\n",
        "        self.ask3_p = 0\n",
        "        self.ask4_p = 0\n",
        "        self.ask5_p = 0\n",
        "        self.ask1_q = 0\n",
        "        self.ask2_q = 0\n",
        "        self.ask3_q = 0\n",
        "        self.ask4_q = 0\n",
        "        self.ask5_q = 0\n",
        "        self.bid1_p = 0\n",
        "        self.bid2_p = 0\n",
        "        self.bid3_p = 0\n",
        "        self.bid4_p = 0\n",
        "        self.bid5_p = 0\n",
        "        self.bid1_q = 0\n",
        "        self.bid2_q = 0\n",
        "        self.bid3_q = 0\n",
        "        self.bid4_q = 0\n",
        "        self.bid5_q = 0\n",
        "        self.daily_high = 0\n",
        "        self.daily_low = 10000\n",
        "\n",
        "        self.stop_profit = 0\n",
        "        self.stop_loss = 0\n",
        "\n",
        "        self.profit = 0\n",
        "        self.cost = 0\n",
        "\n",
        "        self.num_win = 0\n",
        "        self.num_loss = 0\n",
        "\n",
        "        self.order_time = 0\n",
        "        self.stop_time = None\n",
        "\n",
        "        self.position = []\n",
        "        self.current_time = 0\n",
        "\n",
        "        self.total_cost = 0\n",
        "\n",
        "    def get_result(self):\n",
        "        return self.profit, self.total_cost, self.num_win, self.num_loss\n",
        "\n",
        "    def lob_update(self, lob_row):\n",
        "        pass\n",
        "\n",
        "    def tick_update(self, tick_row):\n",
        "        pass\n",
        "\n",
        "    def could_buy(self):\n",
        "        pass\n",
        "\n",
        "    def buy(self):\n",
        "        pass\n",
        "\n",
        "    def could_sell(self):\n",
        "        pass\n",
        "\n",
        "    def sell(self):\n",
        "        pass\n",
        "\n",
        "    def could_order(self):\n",
        "        pass\n",
        "        \n",
        "    def order(self):\n",
        "        pass\n",
        "\n",
        "    def task(self):\n",
        "        pass\n",
        "    def show_result(self):\n",
        "        pass"
      ],
      "execution_count": 37,
      "outputs": []
    },
    {
      "cell_type": "markdown",
      "metadata": {
        "id": "fFfHWSrlf3pn"
      },
      "source": [
        "# YY5\n",
        "\n"
      ]
    },
    {
      "cell_type": "code",
      "metadata": {
        "id": "gN2gNVVYeara"
      },
      "source": [
        "class YY5(Hft_strategy):\n",
        "    def __init__(self, lob_file, tick_file, beta, time_out, gamma, cool_down_min, stop_loss_factor, theta, position_max_q):\n",
        "        super().__init__(lob_file, tick_file)\n",
        "        self.tick_list = []\n",
        "        self.beta = beta\n",
        "        self.time_out = time_out\n",
        "        self.order_p = []\n",
        "        self.gamma = gamma\n",
        "        self.in_history = []\n",
        "        self.out_history = []\n",
        "        self.in_time = []\n",
        "        self.out_time = []\n",
        "        self.cool_down_min = cool_down_min\n",
        "        self.stop_loss_factor = stop_loss_factor\n",
        "        self.theta = theta\n",
        "        self.weighted_p = 0\n",
        "        self.total_trade_q = 0\n",
        "        self.total_trade_p = 0\n",
        "        self.position_max_q = position_max_q\n",
        "        self.position = []\n",
        "\n",
        "        print(self.lob_file)\n",
        "        print(self.tick_file)\n",
        "\n",
        "\n",
        "    def task(self):\n",
        "        temp_lob = self.lob_file.readline()[:-1].split(\",\")\n",
        "        temp_tick = self.tick_file.readline()[:-1].split(\",\")\n",
        "        lob_row = pd.Series(data = temp_lob, index=self.lob_col)\n",
        "        tick_row = pd.Series(data = temp_tick, index = self.tick_col)\n",
        "        self.lob_datatype_conversion(lob_row)\n",
        "        self.tick_datatype_conversion(tick_row)\n",
        "        next_lob_time = lob_row['time']\n",
        "        next_tick_time = tick_row['time']\n",
        "        self.current_time = min(next_lob_time, next_tick_time)\n",
        "        print(self.current_time)\n",
        "\n",
        "        c = 0\n",
        "        flag = 1\n",
        "        while(self.current_time <= 130000000):\n",
        "            # print(c)\n",
        "            c += 1                        \n",
        "            if (next_lob_time < next_tick_time):\n",
        "                self.lob_update(lob_row)\n",
        "                temp_lob = self.lob_file.readline()[:-1].split(\",\")\n",
        "                lob_row = pd.Series(data = temp_lob, index=self.lob_col)\n",
        "                self.lob_datatype_conversion(lob_row)\n",
        "                next_lob_time = lob_row['time']\n",
        "            else:\n",
        "                self.tick_update(tick_row)\n",
        "                temp_tick = self.tick_file.readline()[:-1].split(\",\")\n",
        "                tick_row = pd.Series(data = temp_tick, index = self.tick_col)\n",
        "                self.tick_datatype_conversion(tick_row)\n",
        "                next_tick_time = tick_row['time']\n",
        "            # print(\"next_lob: \", next_lob_time, \"next_tick: \", next_tick_time)\n",
        "            self.current_time = min(next_lob_time, next_tick_time)\n",
        "            if self.could_sell():\n",
        "                self.sell()\n",
        "            if self.could_buy(tick_row):\n",
        "                self.buy(tick_row)\n",
        "            '''\n",
        "            buy_type = self.could_buy(tick_row)\n",
        "            if buy_type == STOP_PROFIT:\n",
        "                self.buy()\n",
        "                print(\"出場時間：\", self.current_time)\n",
        "                self.out_time.append(self.current_time)\n",
        "                print(\"buy at\", self.order_p)\n",
        "                print(\"get\", -self.order_p + self.cost)\n",
        "                self.out_history.append(self.order_p)\n",
        "                self.profit += self.cost - self.order_p \n",
        "                print(\"-\"*30)\n",
        "            elif buy_type == STOP_LOSS or buy_type == TIME_OUT:\n",
        "                self.buy()\n",
        "                print(\"出場時間：\", self.current_time)\n",
        "                self.out_time.append(self.current_time)\n",
        "                print(\"buy at\", self.ask1_p)\n",
        "                print(\"get\", -self.ask1_p + self.cost)\n",
        "                self.out_history.append(self.ask1_p)\n",
        "                self.profit += -self.ask1_p + self.cost\n",
        "                print(\"-\"*30)\n",
        "            '''\n",
        "        self.clear_position(tick_row)\n",
        "\n",
        "    \n",
        "    def lob_datatype_conversion(self, lob_row):\n",
        "        lob_row['time'] = int(lob_row['time'])\n",
        "        lob_row['ask1_price'] = float(lob_row['ask1_price'])\n",
        "        lob_row['ask2_price'] = float(lob_row['ask2_price'])\n",
        "        lob_row['ask3_price'] = float(lob_row['ask3_price'])\n",
        "        lob_row['ask4_price'] = float(lob_row['ask4_price'])\n",
        "        lob_row['ask5_price'] = float(lob_row['ask5_price'])\n",
        "        lob_row['bid1_price'] = float(lob_row['bid1_price'])\n",
        "        lob_row['bid2_price'] = float(lob_row['bid2_price'])\n",
        "        lob_row['bid3_price'] = float(lob_row['bid3_price'])\n",
        "        lob_row['bid4_price'] = float(lob_row['bid4_price'])\n",
        "        lob_row['bid5_price'] = float(lob_row['bid5_price'])\n",
        "        lob_row['ask1_qty'] = int(lob_row['ask1_qty'])\n",
        "        lob_row['ask2_qty'] = int(lob_row['ask2_qty'])\n",
        "        lob_row['ask3_qty'] = int(lob_row['ask3_qty'])\n",
        "        lob_row['ask4_qty'] = int(lob_row['ask4_qty'])\n",
        "        lob_row['ask5_qty'] = int(lob_row['ask5_qty'])\n",
        "        lob_row['bid1_qty'] = int(lob_row['bid1_qty'])\n",
        "        lob_row['bid2_qty'] = int(lob_row['bid2_qty'])\n",
        "        lob_row['bid3_qty'] = int(lob_row['bid3_qty'])\n",
        "        lob_row['bid4_qty'] = int(lob_row['bid4_qty'])\n",
        "        lob_row['bid5_qty'] = int(lob_row['bid5_qty'])\n",
        "\n",
        "    def tick_datatype_conversion(self, tick_row):\n",
        "        tick_row['time'] = int(tick_row['time'])\n",
        "        tick_row['price'] = float(tick_row['price'])\n",
        "        tick_row['qty'] = int(tick_row['qty'])\n",
        "\n",
        "    def lob_update(self, lob_row):\n",
        "        self.ask1_p = lob_row['ask1_price'] \n",
        "        self.ask2_p = lob_row['ask2_price']\n",
        "        self.ask3_p = lob_row['ask3_price']\n",
        "        self.ask4_p = lob_row['ask4_price']\n",
        "        self.ask5_p = lob_row['ask5_price']\n",
        "        self.ask1_q = lob_row['ask1_qty']\n",
        "        self.ask2_q = lob_row['ask2_qty']\n",
        "        self.ask3_q = lob_row['ask3_qty']\n",
        "        self.ask4_q = lob_row['ask4_qty']\n",
        "        self.ask5_q = lob_row['ask5_qty']\n",
        "        self.bid1_p = lob_row['bid1_price']\n",
        "        self.bid2_p = lob_row['bid2_price']\n",
        "        self.bid3_p = lob_row['bid3_price']\n",
        "        self.bid4_p = lob_row['bid4_price']\n",
        "        self.bid5_p = lob_row['bid5_price']\n",
        "        self.bid1_q = lob_row['bid1_qty']\n",
        "        self.bid2_q = lob_row['bid2_qty']\n",
        "        self.bid3_q = lob_row['bid3_qty']\n",
        "        self.bid4_q = lob_row['bid4_qty']\n",
        "        self.bid5_q = lob_row['bid5_qty']\n",
        "\n",
        "    def tick_update(self, tick_row):\n",
        "        self.daily_low = min(self.daily_low, tick_row['price'])\n",
        "        self.daily_high = max(self.daily_high, tick_row['price'])\n",
        "        if self.current_time > 93000000:\n",
        "            self.total_trade_q += tick_row['qty'] \n",
        "            self.total_trade_p += tick_row['price'] * tick_row['qty'] \n",
        "            self.weighted_p = self.total_trade_p / self.total_trade_q\n",
        "\n",
        "        if (tick_row['price'] >= self.ask1_p):\n",
        "            tick_row['buy_or_sell'] = \"buy\"\n",
        "            self.num_buy += tick_row['qty'] \n",
        "        elif (tick_row['price'] <= self.bid1_p):\n",
        "            tick_row['buy_or_sell'] = \"sell\"\n",
        "            self.num_sell += tick_row['qty']\n",
        "        else:\n",
        "            tick_row['buy_or_sell'] = \"QAO\"\n",
        "            print(\"------Weird price!!!!!---------\")\n",
        "            print(\"At time: \", tick_row['time'])\n",
        "            print(\"tick_row_price\", tick_row['price'])\n",
        "            print(\"ask_1_p\", self.ask1_p)\n",
        "            print(\"bid_1_p\", self.bid1_p)\n",
        "            # assert(0), \"Weird price!!!!!\"\n",
        "\n",
        "        if len(self.tick_list) < 10:\n",
        "            self.tick_list.append(tick_row)\n",
        "        else:\n",
        "            if self.tick_list[0]['buy_or_sell'] == \"buy\":\n",
        "                self.num_buy -= self.tick_list[0]['qty']\n",
        "            elif self.tick_list[0]['buy_or_sell'] == \"sell\":\n",
        "                self.num_sell -= self.tick_list[0]['qty']\n",
        "            else:\n",
        "                pass\n",
        "            self.tick_list.pop(0)\n",
        "            self.tick_list.append(tick_row)\n",
        "\n",
        "    def could_sell(self):\n",
        "        if self.bid1_p > self.weighted_p * self.theta \\\n",
        "            and self.current_time >= self.order_time + self.cool_down_min \\\n",
        "            and len(self.position) <= self.position_max_q:\n",
        "            print(\"*** bid1_p: \", self.bid1_p)\n",
        "            print(\"*** weighted_p: \", self.weighted_p)\n",
        "            print(\"ask1_p: \", self.ask1_p)\n",
        "            return True\n",
        "        else:\n",
        "            return False\n",
        "\n",
        "    def sell(self):\n",
        "        print(\"進場時間：\", self.current_time, \"\\n  sell price at \", self.bid1_p)\n",
        "        self.in_history.append(self.bid1_p)\n",
        "        self.in_time.append(self.current_time)\n",
        "        self.position = np.append(self.position, self.bid1_p)\n",
        "        self.order_time = self.current_time\n",
        "        self.cost = self.bid1_p\n",
        "        self.order_p = np.append(self.order_p, self.bid2_p)\n",
        "\n",
        "        self.total_cost += self.cost\n",
        "\n",
        "    def could_buy(self, tick_row):\n",
        "        # stop profit\n",
        "        if len(self.position) and tick_row['price'] <= np.max(self.order_p):\n",
        "            print(\"stop profit\")\n",
        "            return STOP_PROFIT\n",
        "        # stop loss\n",
        "        return False\n",
        "        # elif len(self.position) and tick_row['price'] >= self.cost * self.stop_loss_factor:\n",
        "        #     print(\"stop loss\")\n",
        "        #     return STOP_LOSS\n",
        "        # # time out\n",
        "        # elif len(self.position) and self.current_time - self.order_time >= self.time_out:\n",
        "        #     print(\"time out\")\n",
        "        #     return False\n",
        "        # else:\n",
        "        #     return False\n",
        "        # keep position\n",
        "\n",
        "        # no position\n",
        "\n",
        "    def buy(self, tick_row):\n",
        "        print(\"出場時間：\", self.current_time)\n",
        "        self.out_history.append(tick_row['price'])\n",
        "        self.out_time.append(self.current_time)\n",
        "        print(\"POSITION(pre): \", self.position)\n",
        "        print(\"Order_p(pre): \", self.order_p)\n",
        "        print(\"tick_row price: \", tick_row['price'])\n",
        "        buy_index = np.argwhere(self.order_p >= tick_row['price'])\n",
        "        print(\"qualified index: \", buy_index)\n",
        "        self.profit += (self.position-self.order_p)[buy_index].sum()\n",
        "        self.position = np.delete(self.position, buy_index)\n",
        "        self.order_p = np.delete(self.order_p, buy_index)\n",
        "        print(\"POSITION(post): \", self.position)\n",
        "        print(\"Order_p(post): \", self.order_p)\n",
        "        print()\n",
        "\n",
        "        # self.order_time = self.current_time\n",
        "        \n",
        "    def clear_position(self, tick_row):\n",
        "        print(\"clear_position: \", np.sum(self.position-tick_row[\"price\"]))\n",
        "        print(\"position: \", self.position)\n",
        "        self.profit += np.sum(self.position-tick_row[\"price\"])\n",
        "            \n",
        "\n",
        "    def show_result(self):\n",
        "        print(\"----------Result Report--------------\")\n",
        "        print(\"profit: \", self.profit)\n",
        "        plt.subplot(211)\n",
        "        plt.title(\"price\")\n",
        "        # plt.figure(figsize=(20,10))\n",
        "        plt.scatter([numtotime(x) for x in self.in_time], self.in_history, marker='v', s= 144, c=\"red\")\n",
        "        plt.scatter([numtotime(x) for x in self.out_time], self.out_history, marker='^', s = 144, c=\"lime\")\n",
        "        plt.plot(self.df.index, self.df.loc[:, 'price'])\n",
        "        plt.subplot(212)\n",
        "        plt.title(\"qty\")\n",
        "        plt.plot(self.df.index, self.df.loc[:, \"qty\"])\n",
        "        \n",
        "        plt.show()\n",
        "\n"
      ],
      "execution_count": 58,
      "outputs": []
    },
    {
      "cell_type": "code",
      "metadata": {
        "id": "D0dHMdWxjtIV"
      },
      "source": [
        "import datetime as dt\n",
        "\n",
        "\n",
        "\n",
        "def back_test(start_date, end_date, sid):\n",
        "    cur_day = None\n",
        "    result_list = []\n",
        "    for file in sorted(os.listdir()):\n",
        "        if \"zip\" not in file:\n",
        "            print(file)\n",
        "            year, month, date = [int(x) for x in file.split(\"-\")]\n",
        "\n",
        "            cur_day = dt.datetime(year, month, date)\n",
        "            if end_date >= cur_day >= start_date:\n",
        "                sid_type = \"otc\"\n",
        "                lob_path = os.path.join(work_path, file, sid, sid_type + \"_lob_\" + sid + \".csv\")\n",
        "                tick_path = os.path.join(work_path, file, sid, sid_type + \"_tick_\" + sid + \".csv\")\n",
        "\n",
        "                if not os.path.exists(lob_path):\n",
        "                    sid_type = \"tse\"\n",
        "                    lob_path = os.path.join(work_path, file, sid, sid_type + \"_lob_\" + sid + \".csv\")\n",
        "                    tick_path = os.path.join(work_path, file, sid, sid_type + \"_tick_\" + sid + \".csv\")\n",
        "                    temp = YY5(lob_path, tick_path, 2, 2000000, 0.75, 100000, 1.02, theta=1.0025, position_max_q=10)\n",
        "                    # beta, time_out, gamma, cool_down_min, stop_loss_factor, theta, position_max_q\n",
        "                    temp.task()\n",
        "                    result_list.append(temp.get_result())\n",
        "                    temp.show_result()\n",
        "    \n",
        "    return result_list \n",
        "\n",
        "def calculate_profit(res_list):\n",
        "    s = 0\n",
        "    c = 0\n",
        "    for x in res_list:\n",
        "        s+=x[0]\n",
        "        c+=x[1]\n",
        "    return s, c\n"
      ],
      "execution_count": 59,
      "outputs": []
    },
    {
      "cell_type": "markdown",
      "metadata": {
        "id": "vigCQC6N5GiZ"
      },
      "source": [
        ""
      ]
    },
    {
      "cell_type": "markdown",
      "metadata": {
        "id": "Rr36cTf1sxBs"
      },
      "source": [
        "#### RUN"
      ]
    },
    {
      "cell_type": "code",
      "metadata": {
        "id": "Z7qsrgmetMEE",
        "outputId": "3e81ccb5-272f-4ef7-a88c-bf9a29ac7730",
        "colab": {
          "base_uri": "https://localhost:8080/",
          "height": 1000
        }
      },
      "source": [
        "res_1301 = back_test(dt.datetime(2020, 9, 21), dt.datetime(2020, 9, 22), \"2330\")"
      ],
      "execution_count": 60,
      "outputs": [
        {
          "output_type": "stream",
          "text": [
            "2020-07-01\n",
            "2020-08-27\n",
            "2020-09-21\n",
            "<_io.TextIOWrapper name='/content/gdrive/Shared drives/marketdata/stock/2020-09-21/2330/tse_lob_2330.csv' mode='r' encoding='UTF-8'>\n",
            "<_io.TextIOWrapper name='/content/gdrive/Shared drives/marketdata/stock/2020-09-21/2330/tse_tick_2330.csv' mode='r' encoding='UTF-8'>\n",
            "90000651\n",
            "*** bid1_p:  443.0\n",
            "*** weighted_p:  0\n",
            "ask1_p:  443.5\n",
            "進場時間： 90000728 \n",
            "  sell price at  443.0\n",
            "stop profit\n",
            "出場時間： 90005870\n",
            "POSITION(pre):  [443.]\n",
            "Order_p(pre):  [442.5]\n",
            "tick_row price:  442.5\n",
            "qualified index:  [[0]]\n",
            "POSITION(post):  []\n",
            "Order_p(post):  []\n",
            "\n",
            "*** bid1_p:  443.0\n",
            "*** weighted_p:  0\n",
            "ask1_p:  443.5\n",
            "進場時間： 90100739 \n",
            "  sell price at  443.0\n",
            "*** bid1_p:  443.0\n",
            "*** weighted_p:  0\n",
            "ask1_p:  443.5\n",
            "進場時間： 90200739 \n",
            "  sell price at  443.0\n",
            "*** bid1_p:  443.0\n",
            "*** weighted_p:  0\n",
            "ask1_p:  443.5\n",
            "進場時間： 90301022 \n",
            "  sell price at  443.0\n",
            "------Weird price!!!!!---------\n",
            "At time:  90328093\n",
            "tick_row_price 443.5\n",
            "ask_1_p 444.0\n",
            "bid_1_p 443.0\n",
            "*** bid1_p:  443.0\n",
            "*** weighted_p:  0\n",
            "ask1_p:  443.5\n",
            "進場時間： 90401030 \n",
            "  sell price at  443.0\n",
            "*** bid1_p:  443.5\n",
            "*** weighted_p:  0\n",
            "ask1_p:  444.0\n",
            "進場時間： 90501056 \n",
            "  sell price at  443.5\n",
            "*** bid1_p:  444.5\n",
            "*** weighted_p:  0\n",
            "ask1_p:  445.0\n",
            "進場時間： 90601179 \n",
            "  sell price at  444.5\n",
            "*** bid1_p:  445.0\n",
            "*** weighted_p:  0\n",
            "ask1_p:  445.5\n",
            "進場時間： 90701370 \n",
            "  sell price at  445.0\n",
            "*** bid1_p:  445.0\n",
            "*** weighted_p:  0\n",
            "ask1_p:  445.5\n",
            "進場時間： 90801443 \n",
            "  sell price at  445.0\n",
            "*** bid1_p:  445.0\n",
            "*** weighted_p:  0\n",
            "ask1_p:  445.5\n",
            "進場時間： 90901534 \n",
            "  sell price at  445.0\n",
            "*** bid1_p:  445.0\n",
            "*** weighted_p:  0\n",
            "ask1_p:  445.5\n",
            "進場時間： 91001605 \n",
            "  sell price at  445.0\n",
            "*** bid1_p:  445.5\n",
            "*** weighted_p:  0\n",
            "ask1_p:  446.0\n",
            "進場時間： 91102000 \n",
            "  sell price at  445.5\n",
            "stop profit\n",
            "出場時間： 102906916\n",
            "POSITION(pre):  [443.  443.  443.  443.  443.5 444.5 445.  445.  445.  445.  445.5]\n",
            "Order_p(pre):  [442.5 442.5 442.5 442.5 443.  444.  444.5 444.5 444.5 444.5 445. ]\n",
            "tick_row price:  445.0\n",
            "qualified index:  [[10]]\n",
            "POSITION(post):  [443.  443.  443.  443.  443.5 444.5 445.  445.  445.  445. ]\n",
            "Order_p(post):  [442.5 442.5 442.5 442.5 443.  444.  444.5 444.5 444.5 444.5]\n",
            "\n",
            "stop profit\n",
            "出場時間： 104011718\n",
            "POSITION(pre):  [443.  443.  443.  443.  443.5 444.5 445.  445.  445.  445. ]\n",
            "Order_p(pre):  [442.5 442.5 442.5 442.5 443.  444.  444.5 444.5 444.5 444.5]\n",
            "tick_row price:  444.5\n",
            "qualified index:  [[6]\n",
            " [7]\n",
            " [8]\n",
            " [9]]\n",
            "POSITION(post):  [443.  443.  443.  443.  443.5 444.5]\n",
            "Order_p(post):  [442.5 442.5 442.5 442.5 443.  444. ]\n",
            "\n",
            "stop profit\n",
            "出場時間： 104457511\n",
            "POSITION(pre):  [443.  443.  443.  443.  443.5 444.5]\n",
            "Order_p(pre):  [442.5 442.5 442.5 442.5 443.  444. ]\n",
            "tick_row price:  444.0\n",
            "qualified index:  [[5]]\n",
            "POSITION(post):  [443.  443.  443.  443.  443.5]\n",
            "Order_p(post):  [442.5 442.5 442.5 442.5 443. ]\n",
            "\n",
            "stop profit\n",
            "出場時間： 104804103\n",
            "POSITION(pre):  [443.  443.  443.  443.  443.5]\n",
            "Order_p(pre):  [442.5 442.5 442.5 442.5 443. ]\n",
            "tick_row price:  443.0\n",
            "qualified index:  [[4]]\n",
            "POSITION(post):  [443. 443. 443. 443.]\n",
            "Order_p(post):  [442.5 442.5 442.5 442.5]\n",
            "\n",
            "stop profit\n",
            "出場時間： 110015916\n",
            "POSITION(pre):  [443. 443. 443. 443.]\n",
            "Order_p(pre):  [442.5 442.5 442.5 442.5]\n",
            "tick_row price:  442.5\n",
            "qualified index:  [[0]\n",
            " [1]\n",
            " [2]\n",
            " [3]]\n",
            "POSITION(post):  []\n",
            "Order_p(post):  []\n",
            "\n",
            "clear_position:  0.0\n",
            "position:  []\n",
            "----------Result Report--------------\n",
            "profit:  6.0\n"
          ],
          "name": "stdout"
        },
        {
          "output_type": "display_data",
          "data": {
            "image/png": "[encoded data removed]",
            "text/plain": [
              "<Figure size 432x288 with 2 Axes>"
            ]
          },
          "metadata": {
            "tags": [],
            "needs_background": "light"
          }
        }
      ]
    },
    {
      "cell_type": "code",
      "metadata": {
        "id": "mWiwOYoa0V2P"
      },
      "source": [
        "profit_1301, cost_1301 = calculate_profit(res_1301)"
      ],
      "execution_count": 55,
      "outputs": []
    },
    {
      "cell_type": "code",
      "metadata": {
        "id": "XHOxh7oJ0k_6",
        "outputId": "42dd5cb5-d1a3-4485-8414-4fe78404a470",
        "colab": {
          "base_uri": "https://localhost:8080/",
          "height": 35
        }
      },
      "source": [
        "profit_1301"
      ],
      "execution_count": 56,
      "outputs": [
        {
          "output_type": "execute_result",
          "data": {
            "text/plain": [
              "6.0"
            ]
          },
          "metadata": {
            "tags": []
          },
          "execution_count": 56
        }
      ]
    },
    {
      "cell_type": "code",
      "metadata": {
        "id": "x7Fy0NUR0rQ5",
        "outputId": "269bc25b-f412-4319-c9d4-ee2eb4770271",
        "colab": {
          "base_uri": "https://localhost:8080/",
          "height": 35
        }
      },
      "source": [
        "cost_1301"
      ],
      "execution_count": 57,
      "outputs": [
        {
          "output_type": "execute_result",
          "data": {
            "text/plain": [
              "5328.5"
            ]
          },
          "metadata": {
            "tags": []
          },
          "execution_count": 57
        }
      ]
    },
    {
      "cell_type": "code",
      "metadata": {
        "id": "r3lRsFbY2LgG"
      },
      "source": [
        ""
      ],
      "execution_count": 26,
      "outputs": []
    }
  ]
}