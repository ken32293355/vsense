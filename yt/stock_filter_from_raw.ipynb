{
  "nbformat": 4,
  "nbformat_minor": 0,
  "metadata": {
    "colab": {
      "name": "stock_filter_from_raw.ipynb",
      "provenance": []
    },
    "kernelspec": {
      "name": "python3",
      "display_name": "Python 3"
    }
  },
  "cells": [
    {
      "cell_type": "markdown",
      "metadata": {
        "id": "4-pf_RVZTPxm"
      },
      "source": [
        "#### Connect to Google drive"
      ]
    },
    {
      "cell_type": "code",
      "metadata": {
        "id": "E6T3KN5cBVj0",
        "outputId": "68b0847e-0508-43f6-bace-2276fccef1fc",
        "colab": {
          "base_uri": "https://localhost:8080/",
          "height": 34
        }
      },
      "source": [
        "from google.colab import drive\n",
        "drive.mount('/content/gdrive')"
      ],
      "execution_count": 8,
      "outputs": [
        {
          "output_type": "stream",
          "text": [
            "Drive already mounted at /content/gdrive; to attempt to forcibly remount, call drive.mount(\"/content/gdrive\", force_remount=True).\n"
          ],
          "name": "stdout"
        }
      ]
    },
    {
      "cell_type": "markdown",
      "metadata": {
        "id": "6r1plEgaTWyP"
      },
      "source": [
        "#### Check for the \"stock\" data"
      ]
    },
    {
      "cell_type": "code",
      "metadata": {
        "id": "vxQx3b4XR5px",
        "outputId": "9d70a003-a23a-434d-df1c-ff194c137915",
        "colab": {
          "base_uri": "https://localhost:8080/",
          "height": 34
        }
      },
      "source": [
        "import os\n",
        "os.listdir('/content/gdrive/Shared drives/marketdata/stock')\n"
      ],
      "execution_count": 9,
      "outputs": [
        {
          "output_type": "execute_result",
          "data": {
            "text/plain": [
              "['2020-09-21.zip', '2020-09-21']"
            ]
          },
          "metadata": {
            "tags": []
          },
          "execution_count": 9
        }
      ]
    },
    {
      "cell_type": "code",
      "metadata": {
        "id": "WyKHzOsFB1Is"
      },
      "source": [
        "source_path = '/content/gdrive/Shared drives/marketdata/stock/'\n",
        "dest_path = '/content/gdrive/Shared drives/marketdata/stock/'"
      ],
      "execution_count": 10,
      "outputs": []
    },
    {
      "cell_type": "markdown",
      "metadata": {
        "id": "dItxl-KdTlia"
      },
      "source": [
        "#### Unzip the .zip file"
      ]
    },
    {
      "cell_type": "code",
      "metadata": {
        "id": "M0DT7et7TH6W"
      },
      "source": [
        "os.chdir(source_path)"
      ],
      "execution_count": 11,
      "outputs": []
    },
    {
      "cell_type": "code",
      "metadata": {
        "id": "azCXH6pKCTyo"
      },
      "source": [
        "'''\n",
        "from zipfile import ZipFile\n",
        "\n",
        "for zipObj in os.listdir():\n",
        "    if '.zip' in zipObj:\n",
        "        with ZipFile(zipObj, 'r') as zipObj:\n",
        "        # Extract all the contents of zip file in current directory\n",
        "            zipObj.extractall(dest_path)\n",
        "'''"
      ],
      "execution_count": 12,
      "outputs": []
    },
    {
      "cell_type": "markdown",
      "metadata": {
        "id": "Bz90OKPOTrEG"
      },
      "source": [
        "#### Filter out each stock symbol"
      ]
    },
    {
      "cell_type": "code",
      "metadata": {
        "id": "wcdY16AfDTxZ"
      },
      "source": [
        "import pandas as pd\n",
        "import numpy\n",
        "import datetime as dt"
      ],
      "execution_count": 14,
      "outputs": []
    },
    {
      "cell_type": "code",
      "metadata": {
        "id": "tmNaz2JVYzQU"
      },
      "source": [
        "def numtotime(num):\n",
        "    ms = num % 1000\n",
        "    num //= 1000\n",
        "    s = num % 100\n",
        "    num //= 100\n",
        "    mi = num % 100\n",
        "    num //= 100\n",
        "    h = num % 100\n",
        "    num = num // 100\n",
        "    # print(h, mi, s, ms)\n",
        "    return dt.datetime(2020, 9, 21, h, mi, s, ms) # TODO"
      ],
      "execution_count": 125,
      "outputs": []
    },
    {
      "cell_type": "markdown",
      "metadata": {
        "id": "Gnnp99aB9yw8"
      },
      "source": [
        "#### Filter TSE"
      ]
    },
    {
      "cell_type": "code",
      "metadata": {
        "id": "P8Psn2cCV4ZF"
      },
      "source": [
        "def filter_tse(date = \"2020-09-21\"):\n",
        "    df_lob_dict = {}\n",
        "    df_tick_dict = {}   \n",
        "    df_lob = pd.read_csv(os.path.join(dest_path, date, \"tse_lob.csv\"), header = None)\n",
        "    df_tick = pd.read_csv(os.path.join(dest_path, date, \"tse_tick.csv\"), header = None)\n",
        "    col_lob = ['time', 'index_ori', 'stock', 'bid1_price', 'bid1_qty','bid2_price', 'bid2_qty',\\\n",
        "              'bid3_price', 'bid3_qty','bid4_price', 'bid4_qty','bid5_price', 'bid5_qty',\\\n",
        "              'ask1_qty', 'ask1_price','ask2_qty', 'ask2_price','ask3_qty', 'ask3_price',\\\n",
        "              'ask4_qty', 'ask4_price','ask5_qty', 'ask5_price', 'n1', 'n2']\n",
        "    col_tick = ['time', 'index_ori', 'stock', 'time2', 'price', 'qty', 'n1', 'n2', 'n3', 'n4']      \n",
        "    df_lob.columns = col_lob\n",
        "    df_tick.columns = col_tick\n",
        "    df_lob = df_lob.drop(['n1', 'n2', 'index_ori'], axis = 1)\n",
        "    df_tick = df_tick.drop(['n1','n2','n3','n4','time2', 'index_ori'], axis = 1)\n",
        "    df_lob = df_lob[df_lob['time'] >= 90000000]\n",
        "    df_tick = df_tick[df_tick['time'] >= 90000000] \n",
        "    df_lob.stock = df_lob.stock.str.strip()\n",
        "    df_tick.stock = df_tick.stock.str.strip()\n",
        "    # TODO\n",
        "    # stock_list = df_lob.stock.str.strip().unique()\n",
        "    stock_list = [\"6462\", \"6278\", \"6488\", \"3037\"]\n",
        "    # df_lob['time'] = df_lob['time'].apply(func = numtotime)\n",
        "    # df_tick['time'] = df_tick['time'].apply(func = numtotime)\n",
        "    # df_lob.drop\n",
        "    for stock in stock_list:\n",
        "        if (os.path.isdir(os.path.join(dest_path, date, stock))):\n",
        "            pass\n",
        "        else:\n",
        "            os.mkdir(os.path.join(dest_path, date, stock))\n",
        "        df_lob_dict[stock] = df_lob[df_lob.stock==stock]\n",
        "        df_tick_dict[stock] = df_tick[df_tick.stock==stock]\n",
        "        if len(df_lob_dict[stock]) >100:\n",
        "            df_lob_dict[stock].to_csv(os.path.join(dest_path, date, stock, \"tse_lob_\" + stock +  \".csv\"), index=False)\n",
        "            df_tick_dict[stock].to_csv(os.path.join(dest_path, date, stock, \"tse_tick_\" + stock + \".csv\"), index=False)\n",
        "    return df_lob_dict, df_tick_dict"
      ],
      "execution_count": 15,
      "outputs": []
    },
    {
      "cell_type": "code",
      "metadata": {
        "id": "PX-HjLv2OQqD"
      },
      "source": [
        "df_lob_dict, df_tick_dict = filter_tse()"
      ],
      "execution_count": 16,
      "outputs": []
    },
    {
      "cell_type": "code",
      "metadata": {
        "id": "5L4IJkqPVC_u",
        "outputId": "1dfcf2ca-9f90-46df-8ac9-ab9cbb7430f6",
        "colab": {
          "base_uri": "https://localhost:8080/",
          "height": 615
        }
      },
      "source": [
        "df_lob_dict"
      ],
      "execution_count": 17,
      "outputs": [
        {
          "output_type": "execute_result",
          "data": {
            "text/plain": [
              "{'3037':               time stock  bid1_price  ...  ask4_price  ask5_qty  ask5_price\n",
              " 85090     90000651  3037        78.0  ...        78.4        17        78.5\n",
              " 85107     90000791  3037        78.0  ...        78.4        17        78.5\n",
              " 85118     90000853  3037        78.0  ...        78.4        17        78.5\n",
              " 85119     90000856  3037        78.0  ...        78.4        17        78.5\n",
              " 85126     90000867  3037        78.0  ...        78.4        17        78.5\n",
              " ...            ...   ...         ...  ...         ...       ...         ...\n",
              " 4806822  132942325  3037        78.9  ...        79.3       197        79.4\n",
              " 4807240  132947338  3037        78.9  ...        79.3       197        79.4\n",
              " 4807681  132952350  3037        78.9  ...        79.3       197        79.4\n",
              " 4808141  132957364  3037        78.9  ...        79.3       197        79.4\n",
              " 4808477  133000000  3037        78.8  ...        79.2       162        79.3\n",
              " \n",
              " [35182 rows x 22 columns],\n",
              " '6278':               time stock  bid1_price  ...  ask4_price  ask5_qty  ask5_price\n",
              " 87830     90007181  6278       123.0  ...       125.0        62       125.5\n",
              " 87870     90007266  6278       123.0  ...       125.0        62       125.5\n",
              " 87894     90007301  6278       123.0  ...       125.0        62       125.5\n",
              " 88329     90008191  6278       123.0  ...       125.0        62       125.5\n",
              " 88461     90008320  6278       123.0  ...       125.0        62       125.5\n",
              " ...            ...   ...         ...  ...         ...       ...         ...\n",
              " 4806937  132943792  6278       119.0  ...       121.0        60       121.5\n",
              " 4807382  132948805  6278       119.0  ...       121.0        60       121.5\n",
              " 4807819  132953819  6278       119.0  ...       121.0        60       121.5\n",
              " 4808315  132958834  6278       119.0  ...       121.0        60       121.5\n",
              " 4808737  133000000  6278       119.0  ...       121.0        60       121.5\n",
              " \n",
              " [8874 rows x 22 columns],\n",
              " '6462': Empty DataFrame\n",
              " Columns: [time, stock, bid1_price, bid1_qty, bid2_price, bid2_qty, bid3_price, bid3_qty, bid4_price, bid4_qty, bid5_price, bid5_qty, ask1_qty, ask1_price, ask2_qty, ask2_price, ask3_qty, ask3_price, ask4_qty, ask4_price, ask5_qty, ask5_price]\n",
              " Index: [],\n",
              " '6488': Empty DataFrame\n",
              " Columns: [time, stock, bid1_price, bid1_qty, bid2_price, bid2_qty, bid3_price, bid3_qty, bid4_price, bid4_qty, bid5_price, bid5_qty, ask1_qty, ask1_price, ask2_qty, ask2_price, ask3_qty, ask3_price, ask4_qty, ask4_price, ask5_qty, ask5_price]\n",
              " Index: []}"
            ]
          },
          "metadata": {
            "tags": []
          },
          "execution_count": 17
        }
      ]
    },
    {
      "cell_type": "code",
      "metadata": {
        "id": "PZyC3gyih9In",
        "outputId": "a51e6baf-9dfd-4be9-a103-bc7bc5e6a36e",
        "colab": {
          "base_uri": "https://localhost:8080/",
          "height": 544
        }
      },
      "source": [
        "df_tick_dict"
      ],
      "execution_count": 18,
      "outputs": [
        {
          "output_type": "execute_result",
          "data": {
            "text/plain": [
              "{'3037':              time stock  price   qty\n",
              " 73162    90000651  3037   78.0   256\n",
              " 73174    90000903  3037   78.1     2\n",
              " 73175    90000936  3037   78.1     2\n",
              " 73196    90001177  3037   78.0     1\n",
              " 73197    90001189  3037   78.0     4\n",
              " ...           ...   ...    ...   ...\n",
              " 800124  132942325  3037   79.0  1781\n",
              " 800533  132947338  3037   79.0  1782\n",
              " 800965  132952350  3037   79.0  1791\n",
              " 801418  132957364  3037   79.0  1862\n",
              " 801748  133000000  3037   78.9  1868\n",
              " \n",
              " [8896 rows x 4 columns], '6278':              time stock  price  qty\n",
              " 73770    90007181  6278  123.5   32\n",
              " 78436    90034747  6278  123.5    2\n",
              " 78518    90035287  6278  123.5    1\n",
              " 78520    90035315  6278  123.5    2\n",
              " 80694    90048173  6278  123.5    1\n",
              " ...           ...   ...    ...  ...\n",
              " 800235  132943792  6278  119.0  462\n",
              " 800671  132948805  6278  119.0  464\n",
              " 801099  132953819  6278  119.0  471\n",
              " 801589  132958834  6278  119.0  474\n",
              " 801995  133000000  6278  119.0  474\n",
              " \n",
              " [1619 rows x 4 columns], '6462': Empty DataFrame\n",
              " Columns: [time, stock, price, qty]\n",
              " Index: [], '6488': Empty DataFrame\n",
              " Columns: [time, stock, price, qty]\n",
              " Index: []}"
            ]
          },
          "metadata": {
            "tags": []
          },
          "execution_count": 18
        }
      ]
    },
    {
      "cell_type": "markdown",
      "metadata": {
        "id": "Vwc9-0EV9rxq"
      },
      "source": [
        "#### Filter OTC"
      ]
    },
    {
      "cell_type": "code",
      "metadata": {
        "id": "82YywIGc9w81"
      },
      "source": [
        "def filter_otc(date = \"2020-09-21\"):\n",
        "    df_lob_dict = {}\n",
        "    df_tick_dict = {}   \n",
        "    df_lob = pd.read_csv(os.path.join(dest_path, date, \"otc_lob.csv\"), header = None)\n",
        "    df_tick = pd.read_csv(os.path.join(dest_path, date, \"otc_tick.csv\"), header = None)\n",
        "    col_lob = ['time', 'index_ori', 'stock', 'bid1_price', 'bid1_qty','bid2_price', 'bid2_qty',\\\n",
        "              'bid3_price', 'bid3_qty','bid4_price', 'bid4_qty','bid5_price', 'bid5_qty',\\\n",
        "              'ask1_qty', 'ask1_price','ask2_qty', 'ask2_price','ask3_qty', 'ask3_price',\\\n",
        "              'ask4_qty', 'ask4_price','ask5_qty', 'ask5_price', 'n1', 'n2']\n",
        "    col_tick = ['time', 'index_ori', 'stock', 'time2', 'price', 'qty', 'n1', 'n2', 'n3', 'n4']      \n",
        "    df_lob.columns = col_lob\n",
        "    df_tick.columns = col_tick\n",
        "    df_lob = df_lob.drop(['n1', 'n2', 'index_ori'], axis = 1)\n",
        "    df_tick = df_tick.drop(['n1','n2','n3','n4','time2', 'index_ori'], axis = 1)\n",
        "    df_lob = df_lob[df_lob['time'] >= 90000000]\n",
        "    df_tick = df_tick[df_tick['time'] >= 90000000] \n",
        "    df_lob.stock = df_lob.stock.str.strip()\n",
        "    df_tick.stock = df_tick.stock.str.strip()\n",
        "    # TODO\n",
        "    # stock_list = df_lob.stock.str.strip().unique()\n",
        "    stock_list = [\"6462\", \"6488\"]\n",
        "    # df_lob['time'] = df_lob['time'].apply(func = numtotime)\n",
        "    # df_tick['time'] = df_tick['time'].apply(func = numtotime)\n",
        "    # df_lob.drop\n",
        "    for stock in stock_list:\n",
        "        if (os.path.isdir(os.path.join(dest_path, date, stock))):\n",
        "            pass\n",
        "        else:\n",
        "            os.mkdir(os.path.join(dest_path, date, stock))\n",
        "        df_lob_dict[stock] = df_lob[df_lob.stock==stock]\n",
        "        df_tick_dict[stock] = df_tick[df_tick.stock==stock]\n",
        "        if len(df_lob_dict[stock]) > 100:\n",
        "            df_lob_dict[stock].to_csv(os.path.join(dest_path, date, stock, \"otc_lob_\" + stock +  \".csv\"), index=False)\n",
        "            df_tick_dict[stock].to_csv(os.path.join(dest_path, date, stock, \"otc_tick_\" + stock + \".csv\"), index=False)\n",
        "    return df_lob_dict, df_tick_dict"
      ],
      "execution_count": 19,
      "outputs": []
    },
    {
      "cell_type": "code",
      "metadata": {
        "id": "ZeEKgu1b-Unc"
      },
      "source": [
        "df_lob_dict_1, df_tick_dict_1 = filter_otc()"
      ],
      "execution_count": 20,
      "outputs": []
    },
    {
      "cell_type": "code",
      "metadata": {
        "id": "4RstvzcH-bD-",
        "outputId": "d2727f3a-fb6b-48b5-cdf4-4669466b127c",
        "colab": {
          "base_uri": "https://localhost:8080/",
          "height": 493
        }
      },
      "source": [
        "df_lob_dict_1"
      ],
      "execution_count": 21,
      "outputs": [
        {
          "output_type": "execute_result",
          "data": {
            "text/plain": [
              "{'6462':               time stock  bid1_price  ...  ask4_price  ask5_qty  ask5_price\n",
              " 41830     90022839  6462       178.0  ...       180.0        20       180.5\n",
              " 42825     90027608  6462       178.0  ...       180.0        20       180.5\n",
              " 45930     90039859  6462       178.0  ...       180.0        20       180.5\n",
              " 49334     90053522  6462       178.0  ...       180.0        21       180.5\n",
              " 49664     90055118  6462       178.0  ...       180.0        21       180.5\n",
              " ...            ...   ...         ...  ...         ...       ...         ...\n",
              " 1097741  132928887  6462       177.5  ...       179.5        38       180.0\n",
              " 1097934  132933909  6462       177.5  ...       179.5        38       180.0\n",
              " 1098298  132943952  6462       177.5  ...       179.5        38       180.0\n",
              " 1098480  132948974  6462       177.0  ...       179.0        22       179.5\n",
              " 1099627  133000000  6462       177.0  ...       179.0        22       179.5\n",
              " \n",
              " [1450 rows x 22 columns],\n",
              " '6488':               time stock  bid1_price  ...  ask4_price  ask5_qty  ask5_price\n",
              " 41667     90021834  6488       403.0  ...       405.5         3       406.0\n",
              " 41680     90021923  6488       403.0  ...       405.5         3       406.0\n",
              " 41681     90021926  6488       403.0  ...       405.5         3       406.0\n",
              " 42427     90026026  6488       403.0  ...       405.5         3       406.0\n",
              " 43122     90028843  6488       403.0  ...       405.5         3       406.0\n",
              " ...            ...   ...         ...  ...         ...       ...         ...\n",
              " 1098067  132937726  6488       397.0  ...       399.0        13       399.5\n",
              " 1098434  132947769  6488       397.0  ...       399.0        13       399.5\n",
              " 1098624  132952788  6488       396.5  ...       398.5        32       399.0\n",
              " 1098834  132957809  6488       396.5  ...       398.5        32       399.0\n",
              " 1099594  133000000  6488       396.5  ...       398.5        32       399.0\n",
              " \n",
              " [3686 rows x 22 columns]}"
            ]
          },
          "metadata": {
            "tags": []
          },
          "execution_count": 21
        }
      ]
    },
    {
      "cell_type": "code",
      "metadata": {
        "id": "cf23YCmj-c1n",
        "outputId": "f5554542-ba38-4c8a-8ee9-5ae495d4638d",
        "colab": {
          "base_uri": "https://localhost:8080/",
          "height": 476
        }
      },
      "source": [
        "df_tick_dict_1"
      ],
      "execution_count": 22,
      "outputs": [
        {
          "output_type": "execute_result",
          "data": {
            "text/plain": [
              "{'6462':              time stock  price  qty\n",
              " 27351    90022839  6462  178.0    4\n",
              " 36836    90302143  6462  178.5    1\n",
              " 37842    90321719  6462  178.5    1\n",
              " 41393    90440779  6462  178.5    1\n",
              " 41395    90440798  6462  178.5    1\n",
              " ...           ...   ...    ...  ...\n",
              " 236530  132928887  6462  177.5   44\n",
              " 236708  132933909  6462  177.5   44\n",
              " 237041  132943952  6462  177.5   44\n",
              " 237209  132948974  6462  177.5   46\n",
              " 238006  133000000  6462  177.5   46\n",
              " \n",
              " [339 rows x 4 columns], '6488':              time stock  price  qty\n",
              " 27309    90021834  6488  403.0   12\n",
              " 27725    90028843  6488  403.0    1\n",
              " 27873    90031542  6488  403.5    1\n",
              " 27874    90031607  6488  403.0    1\n",
              " 27978    90033335  6488  403.0    2\n",
              " ...           ...   ...    ...  ...\n",
              " 236828  132937726  6488  397.5  191\n",
              " 237166  132947769  6488  397.5  191\n",
              " 237341  132952788  6488  396.5  186\n",
              " 237541  132957809  6488  396.5  188\n",
              " 237990  133000000  6488  396.5  188\n",
              " \n",
              " [832 rows x 4 columns]}"
            ]
          },
          "metadata": {
            "tags": []
          },
          "execution_count": 22
        }
      ]
    },
    {
      "cell_type": "code",
      "metadata": {
        "id": "L-5RDb3E-f5N"
      },
      "source": [
        ""
      ],
      "execution_count": null,
      "outputs": []
    }
  ]
}