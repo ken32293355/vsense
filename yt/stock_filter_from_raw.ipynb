{
  "nbformat": 4,
  "nbformat_minor": 0,
  "metadata": {
    "colab": {
      "name": "stock_filter_from_raw.ipynb",
      "provenance": []
    },
    "kernelspec": {
      "name": "python3",
      "display_name": "Python 3"
    }
  },
  "cells": [
    {
      "cell_type": "markdown",
      "metadata": {
        "id": "4-pf_RVZTPxm"
      },
      "source": [
        "#### Connect to Google drive"
      ]
    },
    {
      "cell_type": "code",
      "metadata": {
        "id": "E6T3KN5cBVj0",
        "outputId": "140f00f9-4785-4b37-e8e3-94575687b191",
        "colab": {
          "base_uri": "https://localhost:8080/",
          "height": 34
        }
      },
      "source": [
        "from google.colab import drive\n",
        "drive.mount('/content/gdrive')"
      ],
      "execution_count": 18,
      "outputs": [
        {
          "output_type": "stream",
          "text": [
            "Drive already mounted at /content/gdrive; to attempt to forcibly remount, call drive.mount(\"/content/gdrive\", force_remount=True).\n"
          ],
          "name": "stdout"
        }
      ]
    },
    {
      "cell_type": "markdown",
      "metadata": {
        "id": "6r1plEgaTWyP"
      },
      "source": [
        "#### Check for the \"stock\" data"
      ]
    },
    {
      "cell_type": "code",
      "metadata": {
        "id": "vxQx3b4XR5px",
        "outputId": "b5aae83d-ed2d-4f62-b792-17dde0cd539f",
        "colab": {
          "base_uri": "https://localhost:8080/",
          "height": 34
        }
      },
      "source": [
        "os.listdir('/content/gdrive/Shared drives/marketdata/stock')"
      ],
      "execution_count": 24,
      "outputs": [
        {
          "output_type": "execute_result",
          "data": {
            "text/plain": [
              "['2020-09-21.zip']"
            ]
          },
          "metadata": {
            "tags": []
          },
          "execution_count": 24
        }
      ]
    },
    {
      "cell_type": "code",
      "metadata": {
        "id": "WyKHzOsFB1Is"
      },
      "source": [
        "source_path = '/content/gdrive/Shared drives/marketdata/stock/'\n",
        "dest_path = '/content/gdrive/Shared drives/marketdata/stock/'"
      ],
      "execution_count": 25,
      "outputs": []
    },
    {
      "cell_type": "markdown",
      "metadata": {
        "id": "dItxl-KdTlia"
      },
      "source": [
        "#### Unzip the .zip file"
      ]
    },
    {
      "cell_type": "code",
      "metadata": {
        "id": "M0DT7et7TH6W"
      },
      "source": [
        "os.chdir(source_path)"
      ],
      "execution_count": 27,
      "outputs": []
    },
    {
      "cell_type": "code",
      "metadata": {
        "id": "azCXH6pKCTyo"
      },
      "source": [
        "from zipfile import ZipFile\n",
        "\n",
        "for zipObj in os.listdir():\n",
        "    if '.zip' in zipObj:\n",
        "        with ZipFile(zipObj, 'r') as zipObj:\n",
        "        # Extract all the contents of zip file in current directory\n",
        "            zipObj.extractall(dest_path)"
      ],
      "execution_count": 28,
      "outputs": []
    },
    {
      "cell_type": "markdown",
      "metadata": {
        "id": "Bz90OKPOTrEG"
      },
      "source": [
        "#### Filter out each stock symbol"
      ]
    },
    {
      "cell_type": "code",
      "metadata": {
        "id": "wcdY16AfDTxZ"
      },
      "source": [
        "import pandas as pd\n",
        "import numpy\n",
        "import datetime as dt"
      ],
      "execution_count": 30,
      "outputs": []
    },
    {
      "cell_type": "code",
      "metadata": {
        "id": "tmNaz2JVYzQU"
      },
      "source": [
        "def numtotime(num):\n",
        "    ms = num % 1000\n",
        "    num //= 1000\n",
        "    s = num % 100\n",
        "    num //= 100\n",
        "    mi = num % 100\n",
        "    num //= 100\n",
        "    h = num % 100\n",
        "    num = num // 100\n",
        "    # print(h, mi, s, ms)\n",
        "    return dt.datetime(2020, 9, 21, h, mi, s, ms) # TODO"
      ],
      "execution_count": 125,
      "outputs": []
    },
    {
      "cell_type": "code",
      "metadata": {
        "id": "P8Psn2cCV4ZF"
      },
      "source": [
        "def filter(date = \"2020-09-21\"):\n",
        "    df_lob_dict = {}\n",
        "    df_tick_dict = {}   \n",
        "    df_lob = pd.read_csv(os.path.join(dest_path, date, \"tse_lob.csv\"), header = None)\n",
        "    df_tick = pd.read_csv(os.path.join(dest_path, date, \"tse_tick.csv\"), header = None)\n",
        "    col_lob = ['time', 'index_ori', 'stock', 'bid1_price', 'bid1_qty','bid2_price', 'bid2_qty',\\\n",
        "              'bid3_price', 'bid3_qty','bid4_price', 'bid4_qty','bid5_price', 'bid5_qty',\\\n",
        "              'ask1_qty', 'ask1_price','ask2_qty', 'ask2_price','ask3_qty', 'ask3_price',\\\n",
        "              'ask4_qty', 'ask4_price','ask5_qty', 'ask5_price', 'n1', 'n2']\n",
        "    col_tick = ['time', 'index_ori', 'stock', 'time2', 'price', 'qty', 'n1', 'n2', 'n3', 'n4']      \n",
        "    df_lob.columns = col_lob\n",
        "    df_tick.columns = col_tick\n",
        "    df_lob = df_lob.drop(['n1', 'n2', 'index_ori'], axis = 1)\n",
        "    df_tick = df_tick.drop(['n1','n2','n3','n4','time2', 'index_ori'], axis = 1)\n",
        "    df_lob = df_lob[df_lob['time'] >= 90000000]\n",
        "    df_tick = df_tick[df_tick['time'] >= 90000000] \n",
        "    df_lob.stock = df_lob.stock.str.strip()\n",
        "    df_tick.stock = df_tick.stock.str.strip()\n",
        "    # TODO\n",
        "    # stock_list = df_lob.stock.str.strip().unique()\n",
        "    stock_list = [\"2330\", \"3406\"]\n",
        "    # df_lob['time'] = df_lob['time'].apply(func = numtotime)\n",
        "    # df_tick['time'] = df_tick['time'].apply(func = numtotime)\n",
        "    # df_lob.drop\n",
        "    for stock in stock_list:\n",
        "        if (os.path.isdir(os.path.join(dest_path, date, stock))):\n",
        "            pass\n",
        "        else:\n",
        "            os.mkdir(os.path.join(dest_path, date, stock))\n",
        "        df_lob_dict[stock] = df_lob[df_lob.stock==stock]\n",
        "        df_tick_dict[stock] = df_tick[df_tick.stock==stock]\n",
        "        df_lob_dict[stock].to_csv(os.path.join(dest_path, date, stock, \"tse_lob_\" + stock +  \".csv\"), index=False)\n",
        "        df_tick_dict[stock].to_csv(os.path.join(dest_path, date, stock, \"tse_tick_\" + stock + \".csv\"), index=False)\n",
        "    return df_lob_dict, df_tick_dict"
      ],
      "execution_count": 163,
      "outputs": []
    },
    {
      "cell_type": "code",
      "metadata": {
        "id": "PX-HjLv2OQqD"
      },
      "source": [
        "df_lob_dict, df_tick_dict = filter()"
      ],
      "execution_count": 164,
      "outputs": []
    },
    {
      "cell_type": "code",
      "metadata": {
        "id": "5L4IJkqPVC_u",
        "outputId": "65bfd96a-6978-4d37-99b0-4237fca85b42",
        "colab": {
          "base_uri": "https://localhost:8080/",
          "height": 514
        }
      },
      "source": [
        "df_lob_dict"
      ],
      "execution_count": 165,
      "outputs": [
        {
          "output_type": "execute_result",
          "data": {
            "text/plain": [
              "{'2330':               time stock  bid1_price  ...  ask4_price  ask5_qty  ask5_price\n",
              " 85088     90000651  2330       443.0  ...       445.0       647       445.5\n",
              " 85092     90000728  2330       443.0  ...       445.0       647       445.5\n",
              " 85093     90000731  2330       443.0  ...       445.0       650       445.5\n",
              " 85094     90000732  2330       443.0  ...       445.0       650       445.5\n",
              " 85095     90000733  2330       443.0  ...       445.0       650       445.5\n",
              " ...            ...   ...         ...  ...         ...       ...         ...\n",
              " 4806821  132942325  2330       440.0  ...       442.0       199       442.5\n",
              " 4807239  132947338  2330       440.0  ...       442.0       199       442.5\n",
              " 4807680  132952350  2330       440.0  ...       442.0       198       442.5\n",
              " 4808140  132957364  2330       440.0  ...       442.0       203       442.5\n",
              " 4808471  133000000  2330       440.0  ...       442.0       203       442.5\n",
              " \n",
              " [48302 rows x 22 columns],\n",
              " '3406':               time stock  bid1_price  ...  ask4_price  ask5_qty  ask5_price\n",
              " 87100     90005977  3406       615.0  ...       619.0        45       620.0\n",
              " 87152     90006067  3406       615.0  ...       619.0        45       620.0\n",
              " 87295     90006331  3406       615.0  ...       619.0        45       620.0\n",
              " 87362     90006514  3406       615.0  ...       619.0        45       620.0\n",
              " 87644     90006877  3406       615.0  ...       619.0        45       620.0\n",
              " ...            ...   ...         ...  ...         ...       ...         ...\n",
              " 4806849  132942589  3406       625.0  ...       629.0       111       630.0\n",
              " 4807268  132947602  3406       625.0  ...       629.0       112       630.0\n",
              " 4807708  132952616  3406       623.0  ...       627.0        57       628.0\n",
              " 4808177  132957631  3406       615.0  ...       619.0        12       620.0\n",
              " 4808683  133000000  3406       615.0  ...       619.0        12       620.0\n",
              " \n",
              " [17372 rows x 22 columns]}"
            ]
          },
          "metadata": {
            "tags": []
          },
          "execution_count": 165
        }
      ]
    },
    {
      "cell_type": "code",
      "metadata": {
        "id": "PZyC3gyih9In",
        "outputId": "7072d0f9-473c-40d9-f7d2-34d6d407a80f",
        "colab": {
          "base_uri": "https://localhost:8080/",
          "height": 496
        }
      },
      "source": [
        "df_tick_dict"
      ],
      "execution_count": 166,
      "outputs": [
        {
          "output_type": "execute_result",
          "data": {
            "text/plain": [
              "{'2330':              time stock  price   qty\n",
              " 73161    90000651  2330  443.5  1370\n",
              " 73163    90000745  2330  443.5     1\n",
              " 73166    90000787  2330  443.0     1\n",
              " 73170    90000842  2330  443.5     1\n",
              " 73308    90002513  2330  443.5     1\n",
              " ...           ...   ...    ...   ...\n",
              " 800123  132942325  2330  440.0  3028\n",
              " 800532  132947338  2330  440.0  2958\n",
              " 800964  132952350  2330  440.0  2963\n",
              " 801417  132957364  2330  440.0  3027\n",
              " 801742  133000000  2330  440.0  3029\n",
              " \n",
              " [10348 rows x 4 columns], '3406':              time stock  price  qty\n",
              " 73650    90005977  3406  616.0  145\n",
              " 73778    90007248  3406  616.0    1\n",
              " 73815    90007615  3406  616.0    1\n",
              " 73918    90008372  3406  616.0    1\n",
              " 74103    90009488  3406  616.0    1\n",
              " ...           ...   ...    ...  ...\n",
              " 800150  132942589  3406  626.0  819\n",
              " 800560  132947602  3406  625.0  821\n",
              " 800992  132952616  3406  624.0  728\n",
              " 801454  132957631  3406  615.0  561\n",
              " 801943  133000000  3406  615.0  561\n",
              " \n",
              " [4215 rows x 4 columns]}"
            ]
          },
          "metadata": {
            "tags": []
          },
          "execution_count": 166
        }
      ]
    },
    {
      "cell_type": "markdown",
      "metadata": {
        "id": "0ysQOeFmqNhB"
      },
      "source": [
        "#### For testing the code (symbol exists or not)"
      ]
    },
    {
      "cell_type": "code",
      "metadata": {
        "id": "Jp5avx1VYIqV"
      },
      "source": [
        "df_lob__ = pd.read_csv(os.path.join(dest_path, \"2020-09-21\", \"tse_lob.csv\"), header = None)"
      ],
      "execution_count": 93,
      "outputs": []
    },
    {
      "cell_type": "code",
      "metadata": {
        "id": "FOOtx0unfFnp"
      },
      "source": [
        "col_lob = ['time', 'index_ori', 'stock', 'bid1_price', 'bid1_qty','bid2_price', 'bid2_qty',\\\n",
        "              'bid3_price', 'bid3_qty','bid4_price', 'bid4_qty','bid5_price', 'bid5_qty',\\\n",
        "              'ask1_qty', 'ask1_price','ask2_qty', 'ask2_price','ask3_qty', 'ask3_price',\\\n",
        "              'ask4_qty', 'ask4_price','ask5_qty', 'ask5_price', 'n1', 'n2']"
      ],
      "execution_count": 94,
      "outputs": []
    },
    {
      "cell_type": "code",
      "metadata": {
        "id": "v44AopY2fJNP"
      },
      "source": [
        "df_lob__.columns = col_lob"
      ],
      "execution_count": 95,
      "outputs": []
    },
    {
      "cell_type": "code",
      "metadata": {
        "id": "H1XWsal_fqMf"
      },
      "source": [
        "df_lob__.stock = df_lob__.stock.str.strip()"
      ],
      "execution_count": 121,
      "outputs": []
    },
    {
      "cell_type": "code",
      "metadata": {
        "id": "-JHPDd8ufLEi"
      },
      "source": [
        "df_lob_dict = {}"
      ],
      "execution_count": 122,
      "outputs": []
    },
    {
      "cell_type": "code",
      "metadata": {
        "id": "Wb71jH9GfQOm"
      },
      "source": [
        "df_lob_dict[\"3105\"] = df_lob__[df_lob__.stock==\"3105\"]"
      ],
      "execution_count": 123,
      "outputs": []
    },
    {
      "cell_type": "code",
      "metadata": {
        "id": "aIY8epsQfTy9",
        "outputId": "df0bb93f-7fb2-46e9-c307-af1dd672d3a8",
        "colab": {
          "base_uri": "https://localhost:8080/",
          "height": 67
        }
      },
      "source": [
        "df_lob_dict[\"3105\"]"
      ],
      "execution_count": 124,
      "outputs": [
        {
          "output_type": "execute_result",
          "data": {
            "text/html": [
              "<div>\n",
              "<style scoped>\n",
              "    .dataframe tbody tr th:only-of-type {\n",
              "        vertical-align: middle;\n",
              "    }\n",
              "\n",
              "    .dataframe tbody tr th {\n",
              "        vertical-align: top;\n",
              "    }\n",
              "\n",
              "    .dataframe thead th {\n",
              "        text-align: right;\n",
              "    }\n",
              "</style>\n",
              "<table border=\"1\" class=\"dataframe\">\n",
              "  <thead>\n",
              "    <tr style=\"text-align: right;\">\n",
              "      <th></th>\n",
              "      <th>time</th>\n",
              "      <th>index_ori</th>\n",
              "      <th>stock</th>\n",
              "      <th>bid1_price</th>\n",
              "      <th>bid1_qty</th>\n",
              "      <th>bid2_price</th>\n",
              "      <th>bid2_qty</th>\n",
              "      <th>bid3_price</th>\n",
              "      <th>bid3_qty</th>\n",
              "      <th>bid4_price</th>\n",
              "      <th>bid4_qty</th>\n",
              "      <th>bid5_price</th>\n",
              "      <th>bid5_qty</th>\n",
              "      <th>ask1_qty</th>\n",
              "      <th>ask1_price</th>\n",
              "      <th>ask2_qty</th>\n",
              "      <th>ask2_price</th>\n",
              "      <th>ask3_qty</th>\n",
              "      <th>ask3_price</th>\n",
              "      <th>ask4_qty</th>\n",
              "      <th>ask4_price</th>\n",
              "      <th>ask5_qty</th>\n",
              "      <th>ask5_price</th>\n",
              "      <th>n1</th>\n",
              "      <th>n2</th>\n",
              "    </tr>\n",
              "  </thead>\n",
              "  <tbody>\n",
              "  </tbody>\n",
              "</table>\n",
              "</div>"
            ],
            "text/plain": [
              "Empty DataFrame\n",
              "Columns: [time, index_ori, stock, bid1_price, bid1_qty, bid2_price, bid2_qty, bid3_price, bid3_qty, bid4_price, bid4_qty, bid5_price, bid5_qty, ask1_qty, ask1_price, ask2_qty, ask2_price, ask3_qty, ask3_price, ask4_qty, ask4_price, ask5_qty, ask5_price, n1, n2]\n",
              "Index: []"
            ]
          },
          "metadata": {
            "tags": []
          },
          "execution_count": 124
        }
      ]
    },
    {
      "cell_type": "code",
      "metadata": {
        "id": "luDNCtDgsdhK"
      },
      "source": [
        ""
      ],
      "execution_count": null,
      "outputs": []
    }
  ]
}