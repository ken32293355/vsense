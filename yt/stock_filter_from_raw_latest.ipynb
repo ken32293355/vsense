{
  "nbformat": 4,
  "nbformat_minor": 0,
  "metadata": {
    "colab": {
      "name": "stock_filter_from_raw.ipynb",
      "provenance": [],
      "collapsed_sections": [],
      "toc_visible": true
    },
    "kernelspec": {
      "name": "python3",
      "display_name": "Python 3"
    }
  },
  "cells": [
    {
      "cell_type": "markdown",
      "metadata": {
        "id": "4-pf_RVZTPxm"
      },
      "source": [
        "#### Connect to Google drive"
      ]
    },
    {
      "cell_type": "code",
      "metadata": {
        "id": "E6T3KN5cBVj0",
        "outputId": "275c5b5f-dd0c-49b3-80cd-8bf6957c5b19",
        "colab": {
          "base_uri": "https://localhost:8080/",
          "height": 34
        }
      },
      "source": [
        "from google.colab import drive\n",
        "drive.mount('/content/gdrive', force_remount=True)"
      ],
      "execution_count": 1,
      "outputs": [
        {
          "output_type": "stream",
          "text": [
            "Mounted at /content/gdrive\n"
          ],
          "name": "stdout"
        }
      ]
    },
    {
      "cell_type": "markdown",
      "metadata": {
        "id": "6r1plEgaTWyP"
      },
      "source": [
        "#### Check for the \"stock\" data"
      ]
    },
    {
      "cell_type": "code",
      "metadata": {
        "id": "vxQx3b4XR5px"
      },
      "source": [
        "import os\n",
        "os.listdir('/content/gdrive/Shared drives/marketdata/stock')\n"
      ],
      "execution_count": null,
      "outputs": []
    },
    {
      "cell_type": "code",
      "metadata": {
        "id": "WyKHzOsFB1Is"
      },
      "source": [
        "source_path = '/content/gdrive/Shared drives/marketdata/stock/'\n",
        "dest_path = '/content/gdrive/Shared drives/marketdata/stock/'"
      ],
      "execution_count": 3,
      "outputs": []
    },
    {
      "cell_type": "markdown",
      "metadata": {
        "id": "dItxl-KdTlia"
      },
      "source": [
        "#### Unzip the .zip file"
      ]
    },
    {
      "cell_type": "code",
      "metadata": {
        "id": "M0DT7et7TH6W"
      },
      "source": [
        "os.chdir(source_path)"
      ],
      "execution_count": null,
      "outputs": []
    },
    {
      "cell_type": "code",
      "metadata": {
        "id": "azCXH6pKCTyo"
      },
      "source": [
        "\n",
        "from zipfile import ZipFile\n",
        "\n",
        "for zipObj in os.listdir():\n",
        "    if '.zip' in zipObj:\n",
        "        with ZipFile(zipObj, 'r') as zipObj:\n",
        "        # Extract all the contents of zip file in current directory\n",
        "            zipObj.extractall(dest_path)\n"
      ],
      "execution_count": null,
      "outputs": []
    },
    {
      "cell_type": "markdown",
      "metadata": {
        "id": "Bz90OKPOTrEG"
      },
      "source": [
        "#### Filter out each stock symbol"
      ]
    },
    {
      "cell_type": "code",
      "metadata": {
        "id": "wcdY16AfDTxZ"
      },
      "source": [
        "import pandas as pd\n",
        "import numpy\n",
        "import datetime as dt"
      ],
      "execution_count": 4,
      "outputs": []
    },
    {
      "cell_type": "code",
      "metadata": {
        "id": "tmNaz2JVYzQU"
      },
      "source": [
        "def numtotime(num):\n",
        "    ms = num % 1000\n",
        "    num //= 1000\n",
        "    s = num % 100\n",
        "    num //= 100\n",
        "    mi = num % 100\n",
        "    num //= 100\n",
        "    h = num % 100\n",
        "    num = num // 100\n",
        "    # print(h, mi, s, ms)\n",
        "    return dt.datetime(2020, 9, 21, h, mi, s, ms) # TODO"
      ],
      "execution_count": 5,
      "outputs": []
    },
    {
      "cell_type": "markdown",
      "metadata": {
        "id": "Gnnp99aB9yw8"
      },
      "source": [
        "#### Filter TSE"
      ]
    },
    {
      "cell_type": "code",
      "metadata": {
        "id": "P8Psn2cCV4ZF"
      },
      "source": [
        "def filter_tse(date = \"2020-09-21\", stock_list = []):\n",
        "    df_lob_dict = {}\n",
        "    df_tick_dict = {}   \n",
        "    df_lob = pd.read_csv(os.path.join(dest_path, date, \"tse_lob.csv\"), header = None)\n",
        "    df_tick = pd.read_csv(os.path.join(dest_path, date, \"tse_tick.csv\"), header = None)\n",
        "    col_lob = ['time', 'index_ori', 'stock', 'bid1_price', 'bid1_qty','bid2_price', 'bid2_qty',\\\n",
        "              'bid3_price', 'bid3_qty','bid4_price', 'bid4_qty','bid5_price', 'bid5_qty',\\\n",
        "              'ask1_qty', 'ask1_price','ask2_qty', 'ask2_price','ask3_qty', 'ask3_price',\\\n",
        "              'ask4_qty', 'ask4_price','ask5_qty', 'ask5_price', 'n1', 'n2']\n",
        "    col_tick = ['time', 'index_ori', 'stock', 'time2', 'price', 'qty', 'n1', 'n2', 'n3', 'n4']      \n",
        "    df_lob.columns = col_lob\n",
        "    df_tick.columns = col_tick\n",
        "    df_lob = df_lob.drop(['n1', 'n2', 'index_ori'], axis = 1)\n",
        "    df_tick = df_tick.drop(['n1','n2','n3','n4','time2', 'index_ori'], axis = 1)\n",
        "    df_lob = df_lob[df_lob['time'] >= 90000000]\n",
        "    df_tick = df_tick[df_tick['time'] >= 90000000] \n",
        "    df_lob.stock = df_lob.stock.str.strip()\n",
        "    df_tick.stock = df_tick.stock.str.strip()\n",
        "    # TODO\n",
        "    if len(stock_list) == 0:\n",
        "        stock_list = df_lob.stock.str.strip().unique()\n",
        "    \n",
        "    # stock_list = [\"6462\", \"6278\", \"6488\", \"3037\", \"2330\", \"3406\", \"2317\", \"6505\", \"2412\", \"1301\", \"1326\", \"2882\", \"1303\", \"2881\", \"3008\", \"1216\", \"2891\", \"2002\", \"3045\", \"2454\", \"2886\", \"2912\", \"2308\", \"3711\", \"2892\"]\n",
        "    # df_lob['time'] = df_lob['time'].apply(func = numtotime)\n",
        "    # df_tick['time'] = df_tick['time'].apply(func = numtotime)\n",
        "    # df_lob.drop\n",
        "    for stock in stock_list:\n",
        "        if (os.path.isdir(os.path.join(dest_path, date, stock))):\n",
        "            pass\n",
        "        else:\n",
        "            os.mkdir(os.path.join(dest_path, date, stock))\n",
        "        df_lob_dict[stock] = df_lob[df_lob.stock==stock]\n",
        "        df_tick_dict[stock] = df_tick[df_tick.stock==stock]\n",
        "        if len(df_lob_dict[stock]) >100:\n",
        "            df_lob_dict[stock].to_csv(os.path.join(dest_path, date, stock, \"tse_lob_\" + stock +  \".csv\"), index=False)\n",
        "            df_tick_dict[stock].to_csv(os.path.join(dest_path, date, stock, \"tse_tick_\" + stock + \".csv\"), index=False)\n",
        "    return df_lob_dict, df_tick_dict"
      ],
      "execution_count": 6,
      "outputs": []
    },
    {
      "cell_type": "markdown",
      "metadata": {
        "id": "Vwc9-0EV9rxq"
      },
      "source": [
        "#### Filter OTC"
      ]
    },
    {
      "cell_type": "code",
      "metadata": {
        "id": "82YywIGc9w81"
      },
      "source": [
        "def filter_otc(date = \"2020-09-21\", stock_list = []):\n",
        "    df_lob_dict = {}\n",
        "    df_tick_dict = {}   \n",
        "    df_lob = pd.read_csv(os.path.join(dest_path, date, \"otc_lob.csv\"), header = None)\n",
        "    df_tick = pd.read_csv(os.path.join(dest_path, date, \"otc_tick.csv\"), header = None)\n",
        "    col_lob = ['time', 'index_ori', 'stock', 'bid1_price', 'bid1_qty','bid2_price', 'bid2_qty',\\\n",
        "              'bid3_price', 'bid3_qty','bid4_price', 'bid4_qty','bid5_price', 'bid5_qty',\\\n",
        "              'ask1_qty', 'ask1_price','ask2_qty', 'ask2_price','ask3_qty', 'ask3_price',\\\n",
        "              'ask4_qty', 'ask4_price','ask5_qty', 'ask5_price', 'n1', 'n2']\n",
        "    col_tick = ['time', 'index_ori', 'stock', 'time2', 'price', 'qty', 'n1', 'n2', 'n3', 'n4']      \n",
        "    df_lob.columns = col_lob\n",
        "    df_tick.columns = col_tick\n",
        "    df_lob = df_lob.drop(['n1', 'n2', 'index_ori'], axis = 1)\n",
        "    df_tick = df_tick.drop(['n1','n2','n3','n4','time2', 'index_ori'], axis = 1)\n",
        "    df_lob = df_lob[df_lob['time'] >= 90000000]\n",
        "    df_tick = df_tick[df_tick['time'] >= 90000000] \n",
        "    df_lob.stock = df_lob.stock.str.strip()\n",
        "    df_tick.stock = df_tick.stock.str.strip()\n",
        "    # TODO\n",
        "    if len(stock_list) == 0:\n",
        "        stock_list = df_lob.stock.str.strip().unique()\n",
        "    \n",
        "    # stock_list = [\"6462\", \"6278\", \"6488\", \"3037\", \"2330\", \"3406\", \"2317\", \"6505\", \"2412\", \"1301\", \"1326\", \"2882\", \"1303\", \"2881\", \"3008\", \"1216\", \"2891\", \"2002\", \"3045\", \"2454\", \"2886\", \"2912\", \"2308\", \"3711\", \"2892\"]\n",
        "    # df_lob['time'] = df_lob['time'].apply(func = numtotime)\n",
        "    # df_tick['time'] = df_tick['time'].apply(func = numtotime)\n",
        "    # df_lob.drop\n",
        "    for stock in stock_list:\n",
        "        if (os.path.isdir(os.path.join(dest_path, date, stock))):\n",
        "            pass\n",
        "        else:\n",
        "            os.mkdir(os.path.join(dest_path, date, stock))\n",
        "        df_lob_dict[stock] = df_lob[df_lob.stock==stock]\n",
        "        df_tick_dict[stock] = df_tick[df_tick.stock==stock]\n",
        "        if len(df_lob_dict[stock]) > 100:\n",
        "            df_lob_dict[stock].to_csv(os.path.join(dest_path, date, stock, \"otc_lob_\" + stock +  \".csv\"), index=False)\n",
        "            df_tick_dict[stock].to_csv(os.path.join(dest_path, date, stock, \"otc_tick_\" + stock + \".csv\"), index=False)\n",
        "    return df_lob_dict, df_tick_dict"
      ],
      "execution_count": 7,
      "outputs": []
    },
    {
      "cell_type": "code",
      "metadata": {
        "id": "L-5RDb3E-f5N"
      },
      "source": [
        "import os\n",
        "import datetime as dt\n",
        "\n",
        "STOCK_LIST = [\"6462\", \"6278\", \"6488\", \"3037\", \"2330\", \"3406\", \"2317\", \"6505\", \"2412\", \"1301\", \"1326\", \"2882\", \"1303\", \"2881\", \"3008\", \"1216\", \"2891\", \"2002\", \"3045\", \"2454\", \"2886\", \"2912\", \"2308\", \"3711\", \"2892\"]\n",
        "\n",
        "\n",
        "def stock_list_filter(start_date, end_date, stock_list):\n",
        "    cur_day = None\n",
        "    for file in sorted(os.listdir(source_path)):\n",
        "        if \"zip\" not in file:\n",
        "            print(file)\n",
        "            year, month, date = [int(x) for x in file.split(\"-\")]\n",
        "\n",
        "            cur_day = dt.datetime(year, month, date)\n",
        "            if end_date >= cur_day >= start_date:\n",
        "                filter_tse(file, stock_list)\n",
        "                filter_otc(file, stock_list)"
      ],
      "execution_count": 10,
      "outputs": []
    },
    {
      "cell_type": "code",
      "metadata": {
        "id": "eiL6lSB9c-zk",
        "outputId": "8e76a0e2-2080-49a8-b6ca-5962170d72f9",
        "colab": {
          "base_uri": "https://localhost:8080/",
          "height": 1000
        }
      },
      "source": [
        "stock_list_filter(dt.datetime(2020, 7, 1), dt.datetime(2020, 9, 20), STOCK_LIST)"
      ],
      "execution_count": 11,
      "outputs": [
        {
          "output_type": "stream",
          "text": [
            "2020-07-01\n",
            "2020-07-02\n",
            "2020-07-03\n",
            "2020-07-06\n",
            "2020-07-07\n",
            "2020-07-08\n",
            "2020-07-09\n",
            "2020-07-10\n",
            "2020-07-13\n",
            "2020-07-14\n",
            "2020-07-15\n",
            "2020-07-16\n",
            "2020-07-17\n",
            "2020-07-20\n",
            "2020-07-21\n",
            "2020-07-22\n",
            "2020-07-23\n",
            "2020-07-24\n",
            "2020-07-27\n",
            "2020-07-28\n",
            "2020-07-29\n",
            "2020-07-30\n",
            "2020-07-31\n",
            "2020-08-03\n",
            "2020-08-04\n",
            "2020-08-05\n",
            "2020-08-06\n",
            "2020-08-07\n",
            "2020-08-10\n",
            "2020-08-11\n",
            "2020-08-12\n",
            "2020-08-13\n",
            "2020-08-14\n",
            "2020-08-17\n",
            "2020-08-18\n",
            "2020-08-19\n",
            "2020-08-20\n",
            "2020-08-21\n",
            "2020-08-24\n",
            "2020-08-25\n",
            "2020-08-26\n",
            "2020-08-27\n",
            "2020-08-28\n",
            "2020-08-31\n",
            "2020-09-01\n",
            "2020-09-02\n",
            "2020-09-03\n",
            "2020-09-04\n",
            "2020-09-07\n",
            "2020-09-08\n",
            "2020-09-09\n",
            "2020-09-10\n",
            "2020-09-11\n",
            "2020-09-14\n",
            "2020-09-15\n",
            "2020-09-16\n",
            "2020-09-17\n",
            "2020-09-18\n",
            "2020-09-21\n",
            "2020-09-22\n",
            "2020-09-23\n",
            "2020-09-24\n",
            "2020-09-25\n"
          ],
          "name": "stdout"
        }
      ]
    },
    {
      "cell_type": "code",
      "metadata": {
        "id": "dkYes4dxdNQo"
      },
      "source": [
        ""
      ],
      "execution_count": null,
      "outputs": []
    }
  ]
}