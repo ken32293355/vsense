{
  "nbformat": 4,
  "nbformat_minor": 0,
  "metadata": {
    "colab": {
      "name": "analysis_result.ipynb",
      "provenance": [],
      "toc_visible": true
    },
    "kernelspec": {
      "name": "python3",
      "display_name": "Python 3"
    }
  },
  "cells": [
    {
      "cell_type": "markdown",
      "metadata": {
        "id": "h3pULa7q4D0T"
      },
      "source": [
        "#### CONNECT TO GOOGLE DRIVE\n",
        "#### for finding good stocks"
      ]
    },
    {
      "cell_type": "code",
      "metadata": {
        "id": "46feCMLgsSpF",
        "outputId": "39845659-52c2-4fbf-9518-1ba79df38d49",
        "colab": {
          "base_uri": "https://localhost:8080/",
          "height": 33
        }
      },
      "source": [
        "from google.colab import drive\n",
        "drive.mount('/content/gdrive')"
      ],
      "execution_count": 1,
      "outputs": [
        {
          "output_type": "stream",
          "text": [
            "Mounted at /content/gdrive\n"
          ],
          "name": "stdout"
        }
      ]
    },
    {
      "cell_type": "code",
      "metadata": {
        "id": "jzmC_6fxsXR1"
      },
      "source": [
        "import pandas as pd\n",
        "import numpy as np\n",
        "import datetime as dt\n",
        "import os\n",
        "import matplotlib.pyplot as plt\n"
      ],
      "execution_count": 2,
      "outputs": []
    },
    {
      "cell_type": "code",
      "metadata": {
        "id": "mZhHFzyAFnXe"
      },
      "source": [
        "work_path = '/content/gdrive/Shared drives/marketdata/stock/'\n",
        "os.chdir(work_path)"
      ],
      "execution_count": 3,
      "outputs": []
    },
    {
      "cell_type": "code",
      "metadata": {
        "id": "XBW6W0JxEHFD"
      },
      "source": [
        "names = ['strategy', 'cur_day', 'sid', 'beta', 'time_out', 'gamma',\n",
        "       'cool_down_min', 'stop_loss_factor', 'theta', 'position_max_q',\n",
        "       'profit', 'total_cost']"
      ],
      "execution_count": 64,
      "outputs": []
    },
    {
      "cell_type": "markdown",
      "metadata": {
        "id": "1SDtzqgXA0_O"
      },
      "source": [
        "#### for YY5"
      ]
    },
    {
      "cell_type": "code",
      "metadata": {
        "id": "NEgA0Qyh4qhP"
      },
      "source": [
        "res_df = pd.read_csv(\"../result.csv\")"
      ],
      "execution_count": 38,
      "outputs": []
    },
    {
      "cell_type": "code",
      "metadata": {
        "id": "0JMMP2gg5HXB"
      },
      "source": [
        "res_df.columns = [x.strip() for x in res_df.columns]"
      ],
      "execution_count": 53,
      "outputs": []
    },
    {
      "cell_type": "code",
      "metadata": {
        "id": "fTYzxRyWAbct",
        "outputId": "45b5e091-a19d-4f8a-9e94-f88471c72bbd",
        "colab": {
          "base_uri": "https://localhost:8080/",
          "height": 82
        }
      },
      "source": [
        "res_df.columns"
      ],
      "execution_count": 54,
      "outputs": [
        {
          "output_type": "execute_result",
          "data": {
            "text/plain": [
              "Index(['strategy', 'cur_day', 'sid', 'beta', 'time_out', 'gamma',\n",
              "       'cool_down_min', 'stop_loss_factor', 'theta', 'position_max_q',\n",
              "       'profit', 'total_cost'],\n",
              "      dtype='object')"
            ]
          },
          "metadata": {
            "tags": []
          },
          "execution_count": 54
        }
      ]
    },
    {
      "cell_type": "code",
      "metadata": {
        "id": "VVFFxHTI5IaQ"
      },
      "source": [
        "sid_set = set(res_df.loc[:, 'sid'])"
      ],
      "execution_count": 40,
      "outputs": []
    },
    {
      "cell_type": "code",
      "metadata": {
        "id": "uTsvbUk35RnJ",
        "outputId": "00ac32f0-757b-41b2-a835-4edeb16d0d19",
        "colab": {
          "base_uri": "https://localhost:8080/",
          "height": 391
        }
      },
      "source": [
        "res_df.loc[res_df.loc[:, 'sid'] == 6278]"
      ],
      "execution_count": 42,
      "outputs": [
        {
          "output_type": "execute_result",
          "data": {
            "text/html": [
              "<div>\n",
              "<style scoped>\n",
              "    .dataframe tbody tr th:only-of-type {\n",
              "        vertical-align: middle;\n",
              "    }\n",
              "\n",
              "    .dataframe tbody tr th {\n",
              "        vertical-align: top;\n",
              "    }\n",
              "\n",
              "    .dataframe thead th {\n",
              "        text-align: right;\n",
              "    }\n",
              "</style>\n",
              "<table border=\"1\" class=\"dataframe\">\n",
              "  <thead>\n",
              "    <tr style=\"text-align: right;\">\n",
              "      <th></th>\n",
              "      <th>strategy</th>\n",
              "      <th>cur_day</th>\n",
              "      <th>sid</th>\n",
              "      <th>beta</th>\n",
              "      <th>time_out</th>\n",
              "      <th>gamma</th>\n",
              "      <th>cool_down_min</th>\n",
              "      <th>stop_loss_factor</th>\n",
              "      <th>theta</th>\n",
              "      <th>position_max_q</th>\n",
              "      <th>profit</th>\n",
              "      <th>total_cost</th>\n",
              "    </tr>\n",
              "  </thead>\n",
              "  <tbody>\n",
              "    <tr>\n",
              "      <th>54</th>\n",
              "      <td>YY5</td>\n",
              "      <td>2020-09-09 00:00:00</td>\n",
              "      <td>6278</td>\n",
              "      <td>2</td>\n",
              "      <td>2000000</td>\n",
              "      <td>0.75</td>\n",
              "      <td>30000</td>\n",
              "      <td>1.02</td>\n",
              "      <td>1.001</td>\n",
              "      <td>10</td>\n",
              "      <td>0.0</td>\n",
              "      <td>6421.5</td>\n",
              "    </tr>\n",
              "    <tr>\n",
              "      <th>55</th>\n",
              "      <td>YY5</td>\n",
              "      <td>2020-09-10 00:00:00</td>\n",
              "      <td>6278</td>\n",
              "      <td>2</td>\n",
              "      <td>2000000</td>\n",
              "      <td>0.75</td>\n",
              "      <td>30000</td>\n",
              "      <td>1.02</td>\n",
              "      <td>1.001</td>\n",
              "      <td>10</td>\n",
              "      <td>19.5</td>\n",
              "      <td>4736.5</td>\n",
              "    </tr>\n",
              "    <tr>\n",
              "      <th>56</th>\n",
              "      <td>YY5</td>\n",
              "      <td>2020-09-11 00:00:00</td>\n",
              "      <td>6278</td>\n",
              "      <td>2</td>\n",
              "      <td>2000000</td>\n",
              "      <td>0.75</td>\n",
              "      <td>30000</td>\n",
              "      <td>1.02</td>\n",
              "      <td>1.001</td>\n",
              "      <td>10</td>\n",
              "      <td>37.5</td>\n",
              "      <td>10001.0</td>\n",
              "    </tr>\n",
              "    <tr>\n",
              "      <th>57</th>\n",
              "      <td>YY5</td>\n",
              "      <td>2020-09-14 00:00:00</td>\n",
              "      <td>6278</td>\n",
              "      <td>2</td>\n",
              "      <td>2000000</td>\n",
              "      <td>0.75</td>\n",
              "      <td>30000</td>\n",
              "      <td>1.02</td>\n",
              "      <td>1.001</td>\n",
              "      <td>10</td>\n",
              "      <td>-20.5</td>\n",
              "      <td>4473.5</td>\n",
              "    </tr>\n",
              "    <tr>\n",
              "      <th>58</th>\n",
              "      <td>YY5</td>\n",
              "      <td>2020-09-15 00:00:00</td>\n",
              "      <td>6278</td>\n",
              "      <td>2</td>\n",
              "      <td>2000000</td>\n",
              "      <td>0.75</td>\n",
              "      <td>30000</td>\n",
              "      <td>1.02</td>\n",
              "      <td>1.001</td>\n",
              "      <td>10</td>\n",
              "      <td>22.5</td>\n",
              "      <td>5656.0</td>\n",
              "    </tr>\n",
              "    <tr>\n",
              "      <th>...</th>\n",
              "      <td>...</td>\n",
              "      <td>...</td>\n",
              "      <td>...</td>\n",
              "      <td>...</td>\n",
              "      <td>...</td>\n",
              "      <td>...</td>\n",
              "      <td>...</td>\n",
              "      <td>...</td>\n",
              "      <td>...</td>\n",
              "      <td>...</td>\n",
              "      <td>...</td>\n",
              "      <td>...</td>\n",
              "    </tr>\n",
              "    <tr>\n",
              "      <th>179</th>\n",
              "      <td>YY5</td>\n",
              "      <td>2020-09-21 00:00:00</td>\n",
              "      <td>6278</td>\n",
              "      <td>2</td>\n",
              "      <td>2000000</td>\n",
              "      <td>0.75</td>\n",
              "      <td>30000</td>\n",
              "      <td>1.02</td>\n",
              "      <td>1.001</td>\n",
              "      <td>10</td>\n",
              "      <td>3.0</td>\n",
              "      <td>741.0</td>\n",
              "    </tr>\n",
              "    <tr>\n",
              "      <th>180</th>\n",
              "      <td>YY5</td>\n",
              "      <td>2020-09-22 00:00:00</td>\n",
              "      <td>6278</td>\n",
              "      <td>2</td>\n",
              "      <td>2000000</td>\n",
              "      <td>0.75</td>\n",
              "      <td>30000</td>\n",
              "      <td>1.02</td>\n",
              "      <td>1.001</td>\n",
              "      <td>10</td>\n",
              "      <td>5.5</td>\n",
              "      <td>1290.5</td>\n",
              "    </tr>\n",
              "    <tr>\n",
              "      <th>181</th>\n",
              "      <td>YY5</td>\n",
              "      <td>2020-09-23 00:00:00</td>\n",
              "      <td>6278</td>\n",
              "      <td>2</td>\n",
              "      <td>2000000</td>\n",
              "      <td>0.75</td>\n",
              "      <td>30000</td>\n",
              "      <td>1.02</td>\n",
              "      <td>1.001</td>\n",
              "      <td>10</td>\n",
              "      <td>6.0</td>\n",
              "      <td>1348.5</td>\n",
              "    </tr>\n",
              "    <tr>\n",
              "      <th>182</th>\n",
              "      <td>YY5</td>\n",
              "      <td>2020-09-24 00:00:00</td>\n",
              "      <td>6278</td>\n",
              "      <td>2</td>\n",
              "      <td>2000000</td>\n",
              "      <td>0.75</td>\n",
              "      <td>30000</td>\n",
              "      <td>1.02</td>\n",
              "      <td>1.001</td>\n",
              "      <td>10</td>\n",
              "      <td>13.5</td>\n",
              "      <td>2796.0</td>\n",
              "    </tr>\n",
              "    <tr>\n",
              "      <th>183</th>\n",
              "      <td>YY5</td>\n",
              "      <td>2020-09-25 00:00:00</td>\n",
              "      <td>6278</td>\n",
              "      <td>2</td>\n",
              "      <td>2000000</td>\n",
              "      <td>0.75</td>\n",
              "      <td>30000</td>\n",
              "      <td>1.02</td>\n",
              "      <td>1.001</td>\n",
              "      <td>10</td>\n",
              "      <td>0.0</td>\n",
              "      <td>0.0</td>\n",
              "    </tr>\n",
              "  </tbody>\n",
              "</table>\n",
              "<p>130 rows × 12 columns</p>\n",
              "</div>"
            ],
            "text/plain": [
              "    strategy              cur_day   sid  ...  position_max_q  profit  total_cost\n",
              "54       YY5  2020-09-09 00:00:00  6278  ...              10     0.0      6421.5\n",
              "55       YY5  2020-09-10 00:00:00  6278  ...              10    19.5      4736.5\n",
              "56       YY5  2020-09-11 00:00:00  6278  ...              10    37.5     10001.0\n",
              "57       YY5  2020-09-14 00:00:00  6278  ...              10   -20.5      4473.5\n",
              "58       YY5  2020-09-15 00:00:00  6278  ...              10    22.5      5656.0\n",
              "..       ...                  ...   ...  ...             ...     ...         ...\n",
              "179      YY5  2020-09-21 00:00:00  6278  ...              10     3.0       741.0\n",
              "180      YY5  2020-09-22 00:00:00  6278  ...              10     5.5      1290.5\n",
              "181      YY5  2020-09-23 00:00:00  6278  ...              10     6.0      1348.5\n",
              "182      YY5  2020-09-24 00:00:00  6278  ...              10    13.5      2796.0\n",
              "183      YY5  2020-09-25 00:00:00  6278  ...              10     0.0         0.0\n",
              "\n",
              "[130 rows x 12 columns]"
            ]
          },
          "metadata": {
            "tags": []
          },
          "execution_count": 42
        }
      ]
    },
    {
      "cell_type": "code",
      "metadata": {
        "id": "MG_MY9Gv5ui-",
        "outputId": "c22e9815-5f90-46d5-88eb-a479ef6bd71a",
        "colab": {
          "base_uri": "https://localhost:8080/",
          "height": 33
        }
      },
      "source": [
        "p = res_df.loc[res_df.loc[:, 'sid'] == 1216, 'profit'].sum()\n",
        "c = res_df.loc[res_df.loc[:, 'sid'] == 1216, 'total_cost'].sum()\n",
        "print(p, c, p/c)"
      ],
      "execution_count": 43,
      "outputs": [
        {
          "output_type": "stream",
          "text": [
            "2.9000000000000705 18176.700000000004 0.00015954491189270164\n"
          ],
          "name": "stdout"
        }
      ]
    },
    {
      "cell_type": "code",
      "metadata": {
        "id": "RUm9sK-V60TU"
      },
      "source": [
        "return_array = []\n",
        "for sid in sid_set:\n",
        "    res_df.loc[res_df.loc[:, 'sid'] == sid]\n",
        "    p = res_df.loc[res_df.loc[:, 'sid'] == sid, 'profit'].sum()\n",
        "    c = res_df.loc[res_df.loc[:, 'sid'] == sid, 'total_cost'].sum()\n",
        "    return_array.append({\"sid\": sid, \"return\": p/c, \"profit\": p, \"cost\": c})"
      ],
      "execution_count": 51,
      "outputs": []
    },
    {
      "cell_type": "code",
      "metadata": {
        "id": "4bVk6mU87C4-",
        "outputId": "0c8c18ff-5200-41c9-8f14-4336f6ccc5a2",
        "colab": {
          "base_uri": "https://localhost:8080/",
          "height": 1000
        }
      },
      "source": [
        "def get_return(x):\n",
        "    return x['return']\n",
        "sorted(return_array, key=get_return)[::-1]"
      ],
      "execution_count": 52,
      "outputs": [
        {
          "output_type": "execute_result",
          "data": {
            "text/plain": [
              "[{'cost': 356051.5,\n",
              "  'profit': 776.5,\n",
              "  'return': 0.0021808642850823547,\n",
              "  'sid': 6278},\n",
              " {'cost': 1284.4500000000003,\n",
              "  'profit': 1.800000000000022,\n",
              "  'return': 0.0014013780217213762,\n",
              "  'sid': 2891},\n",
              " {'cost': 60635.5,\n",
              "  'profit': 80.5,\n",
              "  'return': 0.001327605115814993,\n",
              "  'sid': 2308},\n",
              " {'cost': 9751.500000000004,\n",
              "  'profit': 10.59999999999998,\n",
              "  'return': 0.0010870122545249424,\n",
              "  'sid': 3045},\n",
              " {'cost': 1177.4,\n",
              "  'profit': 1.200000000000017,\n",
              "  'return': 0.0010191948360795116,\n",
              "  'sid': 2892},\n",
              " {'cost': 16632.799999999996,\n",
              "  'profit': 14.999999999999702,\n",
              "  'return': 0.0009018325236881166,\n",
              "  'sid': 1303},\n",
              " {'cost': 23172.000000000004,\n",
              "  'profit': 12.29999999999987,\n",
              "  'return': 0.0005308130502330342,\n",
              "  'sid': 2317},\n",
              " {'cost': 2992.8499999999985,\n",
              "  'profit': 1.3499999999999837,\n",
              "  'return': 0.00045107506223164687,\n",
              "  'sid': 2002},\n",
              " {'cost': 14011.700000000004,\n",
              "  'profit': 6.3000000000001535,\n",
              "  'return': 0.0004496242425972688,\n",
              "  'sid': 3711},\n",
              " {'cost': 28346.1,\n",
              "  'profit': 12.000000000000727,\n",
              "  'return': 0.000423338660344835,\n",
              "  'sid': 6505},\n",
              " {'cost': 23147.4,\n",
              "  'profit': 9.400000000000176,\n",
              "  'return': 0.00040609312492980533,\n",
              "  'sid': 1301},\n",
              " {'cost': 425572.0,\n",
              "  'profit': 83.0,\n",
              "  'return': 0.00019503162802064045,\n",
              "  'sid': 2454},\n",
              " {'cost': 18176.700000000004,\n",
              "  'profit': 2.9000000000000705,\n",
              "  'return': 0.00015954491189270164,\n",
              "  'sid': 1216},\n",
              " {'cost': 3586.2999999999997,\n",
              "  'profit': 0.1499999999999846,\n",
              "  'return': 4.182583721383727e-05,\n",
              "  'sid': 2882},\n",
              " {'cost': 55421.5,\n",
              "  'profit': 1.5,\n",
              "  'return': 2.706530858962677e-05,\n",
              "  'sid': 2912},\n",
              " {'cost': 217.0, 'profit': 0.0, 'return': 0.0, 'sid': 2412},\n",
              " {'cost': 272027.0,\n",
              "  'profit': -47.0,\n",
              "  'return': -0.0001727769669922471,\n",
              "  'sid': 3406},\n",
              " {'cost': 125755.5,\n",
              "  'profit': -24.0,\n",
              "  'return': -0.00019084652361129334,\n",
              "  'sid': 2330},\n",
              " {'cost': 43806.9,\n",
              "  'profit': -11.60000000000035,\n",
              "  'return': -0.00026479846782128725,\n",
              "  'sid': 3037},\n",
              " {'cost': 8453.650000000001,\n",
              "  'profit': -4.399999999999757,\n",
              "  'return': -0.0005204852341887536,\n",
              "  'sid': 2881},\n",
              " {'cost': 10009.199999999997,\n",
              "  'profit': -8.69999999999996,\n",
              "  'return': -0.0008692003356911604,\n",
              "  'sid': 1326},\n",
              " {'cost': 666010.0,\n",
              "  'profit': -760.0,\n",
              "  'return': -0.0011411240071470398,\n",
              "  'sid': 3008},\n",
              " {'cost': 999.5999999999999,\n",
              "  'profit': -1.299999999999983,\n",
              "  'return': -0.0013005202080832163,\n",
              "  'sid': 2886}]"
            ]
          },
          "metadata": {
            "tags": []
          },
          "execution_count": 52
        }
      ]
    },
    {
      "cell_type": "markdown",
      "metadata": {
        "id": "F048UvtI_qbT"
      },
      "source": [
        "#### for YY6"
      ]
    },
    {
      "cell_type": "code",
      "metadata": {
        "id": "YrmccK4iAtjD"
      },
      "source": [
        "res_df_YY6 = pd.read_csv(\"../result_YY6.csv\", names = ['strategy', 'cur_day', 'sid', 'beta', 'time_out', 'gamma',\n",
        "       'cool_down_min', 'stop_loss_factor', 'theta', 'position_max_q',\n",
        "       'profit', 'total_cost'])"
      ],
      "execution_count": 55,
      "outputs": []
    },
    {
      "cell_type": "code",
      "metadata": {
        "id": "iPcLGZMUA7SP",
        "outputId": "bf94539c-0987-438e-f8c7-08cdc76b2c08",
        "colab": {
          "base_uri": "https://localhost:8080/",
          "height": 391
        }
      },
      "source": [
        "res_df_YY6"
      ],
      "execution_count": 56,
      "outputs": [
        {
          "output_type": "execute_result",
          "data": {
            "text/html": [
              "<div>\n",
              "<style scoped>\n",
              "    .dataframe tbody tr th:only-of-type {\n",
              "        vertical-align: middle;\n",
              "    }\n",
              "\n",
              "    .dataframe tbody tr th {\n",
              "        vertical-align: top;\n",
              "    }\n",
              "\n",
              "    .dataframe thead th {\n",
              "        text-align: right;\n",
              "    }\n",
              "</style>\n",
              "<table border=\"1\" class=\"dataframe\">\n",
              "  <thead>\n",
              "    <tr style=\"text-align: right;\">\n",
              "      <th></th>\n",
              "      <th>strategy</th>\n",
              "      <th>cur_day</th>\n",
              "      <th>sid</th>\n",
              "      <th>beta</th>\n",
              "      <th>time_out</th>\n",
              "      <th>gamma</th>\n",
              "      <th>cool_down_min</th>\n",
              "      <th>stop_loss_factor</th>\n",
              "      <th>theta</th>\n",
              "      <th>position_max_q</th>\n",
              "      <th>profit</th>\n",
              "      <th>total_cost</th>\n",
              "    </tr>\n",
              "  </thead>\n",
              "  <tbody>\n",
              "    <tr>\n",
              "      <th>0</th>\n",
              "      <td>YY6</td>\n",
              "      <td>2020-09-09 00:00:00</td>\n",
              "      <td>6462</td>\n",
              "      <td>2</td>\n",
              "      <td>2000000</td>\n",
              "      <td>0.75</td>\n",
              "      <td>30000</td>\n",
              "      <td>1.02</td>\n",
              "      <td>1.001</td>\n",
              "      <td>10</td>\n",
              "      <td>-10.50</td>\n",
              "      <td>2034.0</td>\n",
              "    </tr>\n",
              "    <tr>\n",
              "      <th>1</th>\n",
              "      <td>YY6</td>\n",
              "      <td>2020-09-10 00:00:00</td>\n",
              "      <td>6462</td>\n",
              "      <td>2</td>\n",
              "      <td>2000000</td>\n",
              "      <td>0.75</td>\n",
              "      <td>30000</td>\n",
              "      <td>1.02</td>\n",
              "      <td>1.001</td>\n",
              "      <td>10</td>\n",
              "      <td>7.00</td>\n",
              "      <td>2449.0</td>\n",
              "    </tr>\n",
              "    <tr>\n",
              "      <th>2</th>\n",
              "      <td>YY6</td>\n",
              "      <td>2020-09-11 00:00:00</td>\n",
              "      <td>6462</td>\n",
              "      <td>2</td>\n",
              "      <td>2000000</td>\n",
              "      <td>0.75</td>\n",
              "      <td>30000</td>\n",
              "      <td>1.02</td>\n",
              "      <td>1.001</td>\n",
              "      <td>10</td>\n",
              "      <td>0.00</td>\n",
              "      <td>0.0</td>\n",
              "    </tr>\n",
              "    <tr>\n",
              "      <th>3</th>\n",
              "      <td>YY6</td>\n",
              "      <td>2020-09-14 00:00:00</td>\n",
              "      <td>6462</td>\n",
              "      <td>2</td>\n",
              "      <td>2000000</td>\n",
              "      <td>0.75</td>\n",
              "      <td>30000</td>\n",
              "      <td>1.02</td>\n",
              "      <td>1.001</td>\n",
              "      <td>10</td>\n",
              "      <td>1.00</td>\n",
              "      <td>346.0</td>\n",
              "    </tr>\n",
              "    <tr>\n",
              "      <th>4</th>\n",
              "      <td>YY6</td>\n",
              "      <td>2020-09-09 00:00:00</td>\n",
              "      <td>6462</td>\n",
              "      <td>2</td>\n",
              "      <td>2000000</td>\n",
              "      <td>0.75</td>\n",
              "      <td>30000</td>\n",
              "      <td>1.02</td>\n",
              "      <td>1.001</td>\n",
              "      <td>10</td>\n",
              "      <td>-10.50</td>\n",
              "      <td>2034.0</td>\n",
              "    </tr>\n",
              "    <tr>\n",
              "      <th>...</th>\n",
              "      <td>...</td>\n",
              "      <td>...</td>\n",
              "      <td>...</td>\n",
              "      <td>...</td>\n",
              "      <td>...</td>\n",
              "      <td>...</td>\n",
              "      <td>...</td>\n",
              "      <td>...</td>\n",
              "      <td>...</td>\n",
              "      <td>...</td>\n",
              "      <td>...</td>\n",
              "      <td>...</td>\n",
              "    </tr>\n",
              "    <tr>\n",
              "      <th>324</th>\n",
              "      <td>YY6</td>\n",
              "      <td>2020-09-21 00:00:00</td>\n",
              "      <td>2892</td>\n",
              "      <td>2</td>\n",
              "      <td>2000000</td>\n",
              "      <td>0.75</td>\n",
              "      <td>30000</td>\n",
              "      <td>1.02</td>\n",
              "      <td>1.001</td>\n",
              "      <td>10</td>\n",
              "      <td>0.00</td>\n",
              "      <td>0.0</td>\n",
              "    </tr>\n",
              "    <tr>\n",
              "      <th>325</th>\n",
              "      <td>YY6</td>\n",
              "      <td>2020-09-22 00:00:00</td>\n",
              "      <td>2892</td>\n",
              "      <td>2</td>\n",
              "      <td>2000000</td>\n",
              "      <td>0.75</td>\n",
              "      <td>30000</td>\n",
              "      <td>1.02</td>\n",
              "      <td>1.001</td>\n",
              "      <td>10</td>\n",
              "      <td>0.00</td>\n",
              "      <td>0.0</td>\n",
              "    </tr>\n",
              "    <tr>\n",
              "      <th>326</th>\n",
              "      <td>YY6</td>\n",
              "      <td>2020-09-23 00:00:00</td>\n",
              "      <td>2892</td>\n",
              "      <td>2</td>\n",
              "      <td>2000000</td>\n",
              "      <td>0.75</td>\n",
              "      <td>30000</td>\n",
              "      <td>1.02</td>\n",
              "      <td>1.001</td>\n",
              "      <td>10</td>\n",
              "      <td>0.00</td>\n",
              "      <td>0.0</td>\n",
              "    </tr>\n",
              "    <tr>\n",
              "      <th>327</th>\n",
              "      <td>YY6</td>\n",
              "      <td>2020-09-24 00:00:00</td>\n",
              "      <td>2892</td>\n",
              "      <td>2</td>\n",
              "      <td>2000000</td>\n",
              "      <td>0.75</td>\n",
              "      <td>30000</td>\n",
              "      <td>1.02</td>\n",
              "      <td>1.001</td>\n",
              "      <td>10</td>\n",
              "      <td>0.00</td>\n",
              "      <td>0.0</td>\n",
              "    </tr>\n",
              "    <tr>\n",
              "      <th>328</th>\n",
              "      <td>YY6</td>\n",
              "      <td>2020-09-25 00:00:00</td>\n",
              "      <td>2892</td>\n",
              "      <td>2</td>\n",
              "      <td>2000000</td>\n",
              "      <td>0.75</td>\n",
              "      <td>30000</td>\n",
              "      <td>1.02</td>\n",
              "      <td>1.001</td>\n",
              "      <td>10</td>\n",
              "      <td>0.55</td>\n",
              "      <td>221.1</td>\n",
              "    </tr>\n",
              "  </tbody>\n",
              "</table>\n",
              "<p>329 rows × 12 columns</p>\n",
              "</div>"
            ],
            "text/plain": [
              "    strategy              cur_day   sid  ...  position_max_q  profit  total_cost\n",
              "0        YY6  2020-09-09 00:00:00  6462  ...              10  -10.50      2034.0\n",
              "1        YY6  2020-09-10 00:00:00  6462  ...              10    7.00      2449.0\n",
              "2        YY6  2020-09-11 00:00:00  6462  ...              10    0.00         0.0\n",
              "3        YY6  2020-09-14 00:00:00  6462  ...              10    1.00       346.0\n",
              "4        YY6  2020-09-09 00:00:00  6462  ...              10  -10.50      2034.0\n",
              "..       ...                  ...   ...  ...             ...     ...         ...\n",
              "324      YY6  2020-09-21 00:00:00  2892  ...              10    0.00         0.0\n",
              "325      YY6  2020-09-22 00:00:00  2892  ...              10    0.00         0.0\n",
              "326      YY6  2020-09-23 00:00:00  2892  ...              10    0.00         0.0\n",
              "327      YY6  2020-09-24 00:00:00  2892  ...              10    0.00         0.0\n",
              "328      YY6  2020-09-25 00:00:00  2892  ...              10    0.55       221.1\n",
              "\n",
              "[329 rows x 12 columns]"
            ]
          },
          "metadata": {
            "tags": []
          },
          "execution_count": 56
        }
      ]
    },
    {
      "cell_type": "code",
      "metadata": {
        "id": "vAeDU2b2BJ5u"
      },
      "source": [
        "sid_set = set(res_df_YY6.loc[:, 'sid'])"
      ],
      "execution_count": 59,
      "outputs": []
    },
    {
      "cell_type": "code",
      "metadata": {
        "id": "yggDs1SMBJ6r",
        "outputId": "baf27629-c533-482c-e0bb-6ea183de185a",
        "colab": {
          "base_uri": "https://localhost:8080/",
          "height": 50
        }
      },
      "source": [
        "return_array = []\n",
        "for sid in sid_set:\n",
        "    res_df_YY6.loc[res_df_YY6.loc[:, 'sid'] == sid]\n",
        "    p = res_df_YY6.loc[res_df_YY6.loc[:, 'sid'] == sid, 'profit'].sum()\n",
        "    c = res_df_YY6.loc[res_df_YY6.loc[:, 'sid'] == sid, 'total_cost'].sum()\n",
        "    return_array.append({\"sid\": sid, \"return\": p/c, \"profit\": p, \"cost\": c})"
      ],
      "execution_count": 62,
      "outputs": [
        {
          "output_type": "stream",
          "text": [
            "/usr/local/lib/python3.6/dist-packages/ipykernel_launcher.py:6: RuntimeWarning: invalid value encountered in double_scalars\n",
            "  \n"
          ],
          "name": "stderr"
        }
      ]
    },
    {
      "cell_type": "code",
      "metadata": {
        "id": "cSzTI8XIBJ67",
        "outputId": "bbf56367-072a-4466-eada-41ffa7eda11f",
        "colab": {
          "base_uri": "https://localhost:8080/",
          "height": 1000
        }
      },
      "source": [
        "def get_return(x):\n",
        "    return x['return']\n",
        "sorted(return_array, key=get_return)[::-1]"
      ],
      "execution_count": 63,
      "outputs": [
        {
          "output_type": "execute_result",
          "data": {
            "text/plain": [
              "[{'cost': 0.0, 'profit': 0.0, 'return': nan, 'sid': 2412},\n",
              " {'cost': 30459.5,\n",
              "  'profit': 69.5,\n",
              "  'return': 0.002281718347313646,\n",
              "  'sid': 6278},\n",
              " {'cost': 59315.0,\n",
              "  'profit': 91.0,\n",
              "  'return': 0.0015341819101407739,\n",
              "  'sid': 2308},\n",
              " {'cost': 1154.0500000000002,\n",
              "  'profit': 1.4500000000000206,\n",
              "  'return': 0.0012564446947706082,\n",
              "  'sid': 2891},\n",
              " {'cost': 11982.500000000004,\n",
              "  'profit': 13.999999999999709,\n",
              "  'return': 0.0011683705403713503,\n",
              "  'sid': 1303},\n",
              " {'cost': 7388.100000000001,\n",
              "  'profit': 8.60000000000008,\n",
              "  'return': 0.0011640340547637523,\n",
              "  'sid': 3045},\n",
              " {'cost': 27736.5,\n",
              "  'profit': 32.0,\n",
              "  'return': 0.0011537144196275665,\n",
              "  'sid': 6462},\n",
              " {'cost': 1033.65,\n",
              "  'profit': 0.8500000000000121,\n",
              "  'return': 0.0008223286412228627,\n",
              "  'sid': 2892},\n",
              " {'cost': 107578.0,\n",
              "  'profit': 79.5,\n",
              "  'return': 0.0007389986800275149,\n",
              "  'sid': 6488},\n",
              " {'cost': 1831.6500000000003,\n",
              "  'profit': 1.3000000000000504,\n",
              "  'return': 0.0007097425818251578,\n",
              "  'sid': 2002},\n",
              " {'cost': 25701.300000000007,\n",
              "  'profit': 17.399999999999864,\n",
              "  'return': 0.0006770085559874348,\n",
              "  'sid': 6505},\n",
              " {'cost': 15155.300000000001,\n",
              "  'profit': 7.099999999999952,\n",
              "  'return': 0.000468482972953353,\n",
              "  'sid': 2317},\n",
              " {'cost': 15861.6,\n",
              "  'profit': 6.4999999999998295,\n",
              "  'return': 0.0004097947243657531,\n",
              "  'sid': 1216},\n",
              " {'cost': 234440.0,\n",
              "  'profit': 89.0,\n",
              "  'return': 0.00037962804982084967,\n",
              "  'sid': 2454},\n",
              " {'cost': 45073.899999999994,\n",
              "  'profit': 8.499999999999872,\n",
              "  'return': 0.00018857919993610212,\n",
              "  'sid': 3037},\n",
              " {'cost': 12459.8,\n",
              "  'profit': 1.6999999999999031,\n",
              "  'return': 0.00013643878713943267,\n",
              "  'sid': 1301},\n",
              " {'cost': 8971.699999999999,\n",
              "  'profit': 0.7000000000000464,\n",
              "  'return': 7.802311713499632e-05,\n",
              "  'sid': 3711},\n",
              " {'cost': 17951.5, 'profit': 0.0, 'return': 0.0, 'sid': 2912},\n",
              " {'cost': 119499.5,\n",
              "  'profit': -2.0,\n",
              "  'return': -1.6736471700718413e-05,\n",
              "  'sid': 2330},\n",
              " {'cost': 3077.5499999999993,\n",
              "  'profit': -0.15000000000001967,\n",
              "  'return': -4.8740069210904685e-05,\n",
              "  'sid': 2882},\n",
              " {'cost': 6992.6500000000015,\n",
              "  'profit': -4.099999999999909,\n",
              "  'return': -0.0005863299321430227,\n",
              "  'sid': 2881},\n",
              " {'cost': 195295.0,\n",
              "  'profit': -119.0,\n",
              "  'return': -0.0006093345963798356,\n",
              "  'sid': 3406},\n",
              " {'cost': 857.6,\n",
              "  'profit': -0.6999999999999886,\n",
              "  'return': -0.0008162313432835688,\n",
              "  'sid': 2886},\n",
              " {'cost': 6648.4,\n",
              "  'profit': -9.49999999999997,\n",
              "  'return': -0.0014289152277239593,\n",
              "  'sid': 1326},\n",
              " {'cost': 354285.0,\n",
              "  'profit': -670.0,\n",
              "  'return': -0.0018911328450258971,\n",
              "  'sid': 3008}]"
            ]
          },
          "metadata": {
            "tags": []
          },
          "execution_count": 63
        }
      ]
    },
    {
      "cell_type": "markdown",
      "metadata": {
        "id": "-dF_gPb0Ba-C"
      },
      "source": [
        "#### for YY9"
      ]
    },
    {
      "cell_type": "code",
      "metadata": {
        "id": "t8i1TJvPB3jZ"
      },
      "source": [
        ""
      ],
      "execution_count": null,
      "outputs": []
    },
    {
      "cell_type": "code",
      "metadata": {
        "id": "hfcCvTlNB7VU"
      },
      "source": [
        "res_df_YY9 = pd.read_csv(\"../result_YY9.csv\", names = ['strategy', 'cur_day', 'sid', 'beta', 'time_out', 'gamma',\n",
        "       'cool_down_min', 'stop_loss_factor', 'theta', 'position_max_q',\n",
        "       'profit', 'total_cost'])"
      ],
      "execution_count": 65,
      "outputs": []
    },
    {
      "cell_type": "code",
      "metadata": {
        "id": "7zg0bwzGB7VZ",
        "outputId": "5216fb36-451f-4e5d-8da9-ac7a83b89c33",
        "colab": {
          "base_uri": "https://localhost:8080/",
          "height": 391
        }
      },
      "source": [
        "res_df_YY9"
      ],
      "execution_count": 66,
      "outputs": [
        {
          "output_type": "execute_result",
          "data": {
            "text/html": [
              "<div>\n",
              "<style scoped>\n",
              "    .dataframe tbody tr th:only-of-type {\n",
              "        vertical-align: middle;\n",
              "    }\n",
              "\n",
              "    .dataframe tbody tr th {\n",
              "        vertical-align: top;\n",
              "    }\n",
              "\n",
              "    .dataframe thead th {\n",
              "        text-align: right;\n",
              "    }\n",
              "</style>\n",
              "<table border=\"1\" class=\"dataframe\">\n",
              "  <thead>\n",
              "    <tr style=\"text-align: right;\">\n",
              "      <th></th>\n",
              "      <th>strategy</th>\n",
              "      <th>cur_day</th>\n",
              "      <th>sid</th>\n",
              "      <th>beta</th>\n",
              "      <th>time_out</th>\n",
              "      <th>gamma</th>\n",
              "      <th>cool_down_min</th>\n",
              "      <th>stop_loss_factor</th>\n",
              "      <th>theta</th>\n",
              "      <th>position_max_q</th>\n",
              "      <th>profit</th>\n",
              "      <th>total_cost</th>\n",
              "    </tr>\n",
              "  </thead>\n",
              "  <tbody>\n",
              "    <tr>\n",
              "      <th>0</th>\n",
              "      <td>YY9</td>\n",
              "      <td>2020-09-09 00:00:00</td>\n",
              "      <td>6462</td>\n",
              "      <td>2</td>\n",
              "      <td>2000000</td>\n",
              "      <td>0.75</td>\n",
              "      <td>30000</td>\n",
              "      <td>1.02</td>\n",
              "      <td>1.005</td>\n",
              "      <td>10</td>\n",
              "      <td>-1.5</td>\n",
              "      <td>5086.0</td>\n",
              "    </tr>\n",
              "    <tr>\n",
              "      <th>1</th>\n",
              "      <td>YY9</td>\n",
              "      <td>2020-09-10 00:00:00</td>\n",
              "      <td>6462</td>\n",
              "      <td>2</td>\n",
              "      <td>2000000</td>\n",
              "      <td>0.75</td>\n",
              "      <td>30000</td>\n",
              "      <td>1.02</td>\n",
              "      <td>1.005</td>\n",
              "      <td>10</td>\n",
              "      <td>7.5</td>\n",
              "      <td>2604.0</td>\n",
              "    </tr>\n",
              "    <tr>\n",
              "      <th>2</th>\n",
              "      <td>YY9</td>\n",
              "      <td>2020-09-11 00:00:00</td>\n",
              "      <td>6462</td>\n",
              "      <td>2</td>\n",
              "      <td>2000000</td>\n",
              "      <td>0.75</td>\n",
              "      <td>30000</td>\n",
              "      <td>1.02</td>\n",
              "      <td>1.005</td>\n",
              "      <td>10</td>\n",
              "      <td>8.0</td>\n",
              "      <td>2733.0</td>\n",
              "    </tr>\n",
              "    <tr>\n",
              "      <th>3</th>\n",
              "      <td>YY9</td>\n",
              "      <td>2020-09-14 00:00:00</td>\n",
              "      <td>6462</td>\n",
              "      <td>2</td>\n",
              "      <td>2000000</td>\n",
              "      <td>0.75</td>\n",
              "      <td>30000</td>\n",
              "      <td>1.02</td>\n",
              "      <td>1.005</td>\n",
              "      <td>10</td>\n",
              "      <td>16.5</td>\n",
              "      <td>5697.5</td>\n",
              "    </tr>\n",
              "    <tr>\n",
              "      <th>4</th>\n",
              "      <td>YY9</td>\n",
              "      <td>2020-09-15 00:00:00</td>\n",
              "      <td>6462</td>\n",
              "      <td>2</td>\n",
              "      <td>2000000</td>\n",
              "      <td>0.75</td>\n",
              "      <td>30000</td>\n",
              "      <td>1.02</td>\n",
              "      <td>1.005</td>\n",
              "      <td>10</td>\n",
              "      <td>-22.5</td>\n",
              "      <td>1913.5</td>\n",
              "    </tr>\n",
              "    <tr>\n",
              "      <th>...</th>\n",
              "      <td>...</td>\n",
              "      <td>...</td>\n",
              "      <td>...</td>\n",
              "      <td>...</td>\n",
              "      <td>...</td>\n",
              "      <td>...</td>\n",
              "      <td>...</td>\n",
              "      <td>...</td>\n",
              "      <td>...</td>\n",
              "      <td>...</td>\n",
              "      <td>...</td>\n",
              "      <td>...</td>\n",
              "    </tr>\n",
              "    <tr>\n",
              "      <th>401</th>\n",
              "      <td>YY9</td>\n",
              "      <td>2020-09-24 00:00:00</td>\n",
              "      <td>3037</td>\n",
              "      <td>2</td>\n",
              "      <td>2000000</td>\n",
              "      <td>0.75</td>\n",
              "      <td>30000</td>\n",
              "      <td>1.02</td>\n",
              "      <td>1.010</td>\n",
              "      <td>10</td>\n",
              "      <td>3.9</td>\n",
              "      <td>2944.2</td>\n",
              "    </tr>\n",
              "    <tr>\n",
              "      <th>402</th>\n",
              "      <td>YY9</td>\n",
              "      <td>2020-09-25 00:00:00</td>\n",
              "      <td>3037</td>\n",
              "      <td>2</td>\n",
              "      <td>2000000</td>\n",
              "      <td>0.75</td>\n",
              "      <td>30000</td>\n",
              "      <td>1.02</td>\n",
              "      <td>1.010</td>\n",
              "      <td>10</td>\n",
              "      <td>-1.8</td>\n",
              "      <td>2755.1</td>\n",
              "    </tr>\n",
              "    <tr>\n",
              "      <th>403</th>\n",
              "      <td>YY9</td>\n",
              "      <td>2020-09-09 00:00:00</td>\n",
              "      <td>3037</td>\n",
              "      <td>2</td>\n",
              "      <td>2000000</td>\n",
              "      <td>0.75</td>\n",
              "      <td>45000</td>\n",
              "      <td>1.02</td>\n",
              "      <td>1.010</td>\n",
              "      <td>10</td>\n",
              "      <td>-15.9</td>\n",
              "      <td>2228.0</td>\n",
              "    </tr>\n",
              "    <tr>\n",
              "      <th>404</th>\n",
              "      <td>YY9</td>\n",
              "      <td>2020-09-10 00:00:00</td>\n",
              "      <td>3037</td>\n",
              "      <td>2</td>\n",
              "      <td>2000000</td>\n",
              "      <td>0.75</td>\n",
              "      <td>45000</td>\n",
              "      <td>1.02</td>\n",
              "      <td>1.010</td>\n",
              "      <td>10</td>\n",
              "      <td>0.0</td>\n",
              "      <td>0.0</td>\n",
              "    </tr>\n",
              "    <tr>\n",
              "      <th>405</th>\n",
              "      <td>YY9</td>\n",
              "      <td>2020-09-11 00:00:00</td>\n",
              "      <td>3037</td>\n",
              "      <td>2</td>\n",
              "      <td>2000000</td>\n",
              "      <td>0.75</td>\n",
              "      <td>45000</td>\n",
              "      <td>1.02</td>\n",
              "      <td>1.010</td>\n",
              "      <td>10</td>\n",
              "      <td>-15.5</td>\n",
              "      <td>1501.4</td>\n",
              "    </tr>\n",
              "  </tbody>\n",
              "</table>\n",
              "<p>406 rows × 12 columns</p>\n",
              "</div>"
            ],
            "text/plain": [
              "    strategy              cur_day   sid  ...  position_max_q  profit  total_cost\n",
              "0        YY9  2020-09-09 00:00:00  6462  ...              10    -1.5      5086.0\n",
              "1        YY9  2020-09-10 00:00:00  6462  ...              10     7.5      2604.0\n",
              "2        YY9  2020-09-11 00:00:00  6462  ...              10     8.0      2733.0\n",
              "3        YY9  2020-09-14 00:00:00  6462  ...              10    16.5      5697.5\n",
              "4        YY9  2020-09-15 00:00:00  6462  ...              10   -22.5      1913.5\n",
              "..       ...                  ...   ...  ...             ...     ...         ...\n",
              "401      YY9  2020-09-24 00:00:00  3037  ...              10     3.9      2944.2\n",
              "402      YY9  2020-09-25 00:00:00  3037  ...              10    -1.8      2755.1\n",
              "403      YY9  2020-09-09 00:00:00  3037  ...              10   -15.9      2228.0\n",
              "404      YY9  2020-09-10 00:00:00  3037  ...              10     0.0         0.0\n",
              "405      YY9  2020-09-11 00:00:00  3037  ...              10   -15.5      1501.4\n",
              "\n",
              "[406 rows x 12 columns]"
            ]
          },
          "metadata": {
            "tags": []
          },
          "execution_count": 66
        }
      ]
    },
    {
      "cell_type": "code",
      "metadata": {
        "id": "pxq3MO_CB7Vc"
      },
      "source": [
        "sid_set = set(res_df_YY9.loc[:, 'sid'])"
      ],
      "execution_count": 67,
      "outputs": []
    },
    {
      "cell_type": "code",
      "metadata": {
        "id": "REy5Y3ngB7Vh"
      },
      "source": [
        "return_array = []\n",
        "for sid in sid_set:\n",
        "    res_df_YY9.loc[res_df_YY9.loc[:, 'sid'] == sid]\n",
        "    p = res_df_YY9.loc[res_df_YY9.loc[:, 'sid'] == sid, 'profit'].sum()\n",
        "    c = res_df_YY9.loc[res_df_YY9.loc[:, 'sid'] == sid, 'total_cost'].sum()\n",
        "    return_array.append({\"sid\": sid, \"return\": p/c, \"profit\": p, \"cost\": c})"
      ],
      "execution_count": 68,
      "outputs": []
    },
    {
      "cell_type": "code",
      "metadata": {
        "id": "5sarreAzB7Vj",
        "outputId": "80920661-7b81-49ca-bfd0-e65039a6c82d",
        "colab": {
          "base_uri": "https://localhost:8080/",
          "height": 277
        }
      },
      "source": [
        "def get_return(x):\n",
        "    return x['return']\n",
        "sorted(return_array, key=get_return)[::-1]"
      ],
      "execution_count": 69,
      "outputs": [
        {
          "output_type": "execute_result",
          "data": {
            "text/plain": [
              "[{'cost': 245248.5,\n",
              "  'profit': 180.5,\n",
              "  'return': 0.0007359881915689596,\n",
              "  'sid': 6462},\n",
              " {'cost': 252645.5,\n",
              "  'profit': 66.59999999999985,\n",
              "  'return': 0.00026361047396450697,\n",
              "  'sid': 6278},\n",
              " {'cost': 466763.0,\n",
              "  'profit': -85.0,\n",
              "  'return': -0.0001821052654130683,\n",
              "  'sid': 6488},\n",
              " {'cost': 243464.60000000003,\n",
              "  'profit': -137.90000000000043,\n",
              "  'return': -0.0005664067794660925,\n",
              "  'sid': 3037}]"
            ]
          },
          "metadata": {
            "tags": []
          },
          "execution_count": 69
        }
      ]
    },
    {
      "cell_type": "code",
      "metadata": {
        "id": "bfDKlhFFFt0D"
      },
      "source": [
        ""
      ],
      "execution_count": null,
      "outputs": []
    }
  ]
}